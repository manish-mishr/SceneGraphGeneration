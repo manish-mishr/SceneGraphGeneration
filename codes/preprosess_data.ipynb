{
 "cells": [
  {
   "cell_type": "code",
   "execution_count": 1,
   "metadata": {
    "collapsed": false
   },
   "outputs": [],
   "source": [
    "import chainer\n",
    "from chainer.functions import caffe\n",
    "from chainer import cuda\n",
    "import chainer.functions as F\n",
    "from chainer.functions import caffe\n",
    "from chainer import cuda, Function, FunctionSet, gradient_check, Variable, optimizers"
   ]
  },
  {
   "cell_type": "code",
   "execution_count": 2,
   "metadata": {
    "collapsed": true
   },
   "outputs": [],
   "source": [
    "import json\n",
    "import unicodecsv as csv\n",
    "import pickle\n",
    "import numpy as np\n",
    "import cv2\n",
    "from tqdm import tqdm"
   ]
  },
  {
   "cell_type": "code",
   "execution_count": 3,
   "metadata": {
    "collapsed": true
   },
   "outputs": [],
   "source": [
    "from gensim import corpora"
   ]
  },
  {
   "cell_type": "code",
   "execution_count": 4,
   "metadata": {
    "collapsed": true
   },
   "outputs": [],
   "source": [
    "import matplotlib.pyplot as plt\n",
    "%matplotlib inline"
   ]
  },
  {
   "cell_type": "code",
   "execution_count": 5,
   "metadata": {
    "collapsed": false
   },
   "outputs": [],
   "source": [
    "with open('../data/relationships-half.json', 'r') as f:\n",
    "    all_relationships = json.load(f)\n",
    "with open('../data/attributes-half.json', 'r') as f:\n",
    "    all_attributes = json.load(f)\n",
    "with open('../data/objects.json', 'r') as f:\n",
    "    all_objects = json.load(f)"
   ]
  },
  {
   "cell_type": "code",
   "execution_count": 6,
   "metadata": {
    "collapsed": false
   },
   "outputs": [],
   "source": [
    "with open('../work/relationship_train_image_ids.csv', 'r') as f:\n",
    "    reader = csv.reader(f)\n",
    "    relationship_train_image_ids=reader.next()\n",
    "    relationship_train_image_ids = map(int,relationship_train_image_ids)\n",
    "    \n",
    "with open('../work/relationship_val_image_ids.csv', 'r') as f:\n",
    "    reader = csv.reader(f)\n",
    "    relationship_val_image_ids=reader.next()\n",
    "    relationship_val_image_ids = map(int,relationship_val_image_ids)\n",
    "\n",
    "with open('../work/relationship_test_image_ids.csv', 'r') as f:\n",
    "    reader = csv.reader(f)\n",
    "    relationship_test_image_ids=reader.next()\n",
    "    relationship_test_image_ids = map(int,relationship_test_image_ids)\n",
    "\n",
    "with open('../work/attribute_train_image_ids.csv', 'r') as f:\n",
    "    reader = csv.reader(f)\n",
    "    attribute_train_image_ids=reader.next()\n",
    "    attribute_train_image_ids = map(int,attribute_train_image_ids)\n",
    "    \n",
    "with open('../work/attribute_val_image_ids.csv', 'r') as f:\n",
    "    reader = csv.reader(f)\n",
    "    attribute_val_image_ids=reader.next()\n",
    "    attribute_val_image_ids = map(int,attribute_val_image_ids)\n",
    "\n",
    "with open('../work/attribute_test_image_ids.csv', 'r') as f:\n",
    "    reader = csv.reader(f)\n",
    "    attribute_test_image_ids=reader.next()\n",
    "    attribute_test_image_ids = map(int,attribute_test_image_ids)"
   ]
  },
  {
   "cell_type": "code",
   "execution_count": 7,
   "metadata": {
    "collapsed": true
   },
   "outputs": [],
   "source": [
    "def get_image_relationships(image_id,all_relationships):\n",
    "    for i in xrange(len(all_relationships)):\n",
    "        image_id_=all_relationships[i][u'id']\n",
    "        if image_id==image_id_:\n",
    "            relationships=all_relationships[i][u'relationships']\n",
    "    return relationships\n",
    "\n",
    "def get_image_attributes(image_id,all_attributes):\n",
    "    for i in xrange(len(all_attributes)):\n",
    "        image_id_=all_objects[i][u'id']\n",
    "        if image_id==image_id_:\n",
    "            attributes=all_attributes[i][u'attributes']\n",
    "    return attributes"
   ]
  },
  {
   "cell_type": "code",
   "execution_count": 8,
   "metadata": {
    "collapsed": false
   },
   "outputs": [
    {
     "name": "stdout",
     "output_type": "stream",
     "text": [
      "done\n"
     ]
    }
   ],
   "source": [
    "gpu_id=-1\n",
    "#Load Caffe Model\n",
    "cnn_model_place=\"../chainer_caption_generation/data/bvlc_googlenet_caffe_chainer.pkl\"\n",
    "with open(cnn_model_place, 'r') as f:\n",
    "    func = pickle.load(f)\n",
    "if gpu_id>= 0:\n",
    "    func.to_gpu()\n",
    "print \"done\""
   ]
  },
  {
   "cell_type": "code",
   "execution_count": 9,
   "metadata": {
    "collapsed": false
   },
   "outputs": [
    {
     "name": "stderr",
     "output_type": "stream",
     "text": [
      " 15%|█▌        | 6930/44741 [04:23<23:55, 26.34it/s]\n"
     ]
    },
    {
     "ename": "KeyboardInterrupt",
     "evalue": "",
     "output_type": "error",
     "traceback": [
      "\u001b[1;31m---------------------------------------------------------------------------\u001b[0m",
      "\u001b[1;31mKeyboardInterrupt\u001b[0m                         Traceback (most recent call last)",
      "\u001b[1;32m<ipython-input-9-af431b77af46>\u001b[0m in \u001b[0;36m<module>\u001b[1;34m()\u001b[0m\n\u001b[0;32m      1\u001b[0m \u001b[0mtrain_attributes\u001b[0m\u001b[1;33m=\u001b[0m\u001b[1;33m[\u001b[0m\u001b[1;33m]\u001b[0m\u001b[1;33m\u001b[0m\u001b[0m\n\u001b[0;32m      2\u001b[0m \u001b[1;32mfor\u001b[0m \u001b[0mimage_id\u001b[0m \u001b[1;32min\u001b[0m \u001b[0mtqdm\u001b[0m\u001b[1;33m(\u001b[0m\u001b[0mattribute_train_image_ids\u001b[0m\u001b[1;33m)\u001b[0m\u001b[1;33m:\u001b[0m\u001b[1;33m\u001b[0m\u001b[0m\n\u001b[1;32m----> 3\u001b[1;33m     \u001b[0mimage_attributes\u001b[0m\u001b[1;33m=\u001b[0m\u001b[0mget_image_attributes\u001b[0m\u001b[1;33m(\u001b[0m\u001b[0mimage_id\u001b[0m\u001b[1;33m,\u001b[0m\u001b[0mall_attributes\u001b[0m\u001b[1;33m)\u001b[0m\u001b[1;33m\u001b[0m\u001b[0m\n\u001b[0m\u001b[0;32m      4\u001b[0m     \u001b[1;32mfor\u001b[0m \u001b[0mtriple\u001b[0m \u001b[1;32min\u001b[0m \u001b[0mimage_attributes\u001b[0m\u001b[1;33m:\u001b[0m\u001b[1;33m\u001b[0m\u001b[0m\n\u001b[0;32m      5\u001b[0m         \u001b[0mtriple_id\u001b[0m\u001b[1;33m=\u001b[0m\u001b[0mtriple\u001b[0m\u001b[1;33m[\u001b[0m\u001b[1;34mu'id'\u001b[0m\u001b[1;33m]\u001b[0m\u001b[1;33m\u001b[0m\u001b[0m\n",
      "\u001b[1;32m<ipython-input-7-ee95a9b25806>\u001b[0m in \u001b[0;36mget_image_attributes\u001b[1;34m(image_id, all_attributes)\u001b[0m\n\u001b[0;32m      8\u001b[0m \u001b[1;32mdef\u001b[0m \u001b[0mget_image_attributes\u001b[0m\u001b[1;33m(\u001b[0m\u001b[0mimage_id\u001b[0m\u001b[1;33m,\u001b[0m\u001b[0mall_attributes\u001b[0m\u001b[1;33m)\u001b[0m\u001b[1;33m:\u001b[0m\u001b[1;33m\u001b[0m\u001b[0m\n\u001b[0;32m      9\u001b[0m     \u001b[1;32mfor\u001b[0m \u001b[0mi\u001b[0m \u001b[1;32min\u001b[0m \u001b[0mxrange\u001b[0m\u001b[1;33m(\u001b[0m\u001b[0mlen\u001b[0m\u001b[1;33m(\u001b[0m\u001b[0mall_attributes\u001b[0m\u001b[1;33m)\u001b[0m\u001b[1;33m)\u001b[0m\u001b[1;33m:\u001b[0m\u001b[1;33m\u001b[0m\u001b[0m\n\u001b[1;32m---> 10\u001b[1;33m         \u001b[0mimage_id_\u001b[0m\u001b[1;33m=\u001b[0m\u001b[0mall_objects\u001b[0m\u001b[1;33m[\u001b[0m\u001b[0mi\u001b[0m\u001b[1;33m]\u001b[0m\u001b[1;33m[\u001b[0m\u001b[1;34mu'id'\u001b[0m\u001b[1;33m]\u001b[0m\u001b[1;33m\u001b[0m\u001b[0m\n\u001b[0m\u001b[0;32m     11\u001b[0m         \u001b[1;32mif\u001b[0m \u001b[0mimage_id\u001b[0m\u001b[1;33m==\u001b[0m\u001b[0mimage_id_\u001b[0m\u001b[1;33m:\u001b[0m\u001b[1;33m\u001b[0m\u001b[0m\n\u001b[0;32m     12\u001b[0m             \u001b[0mattributes\u001b[0m\u001b[1;33m=\u001b[0m\u001b[0mall_attributes\u001b[0m\u001b[1;33m[\u001b[0m\u001b[0mi\u001b[0m\u001b[1;33m]\u001b[0m\u001b[1;33m[\u001b[0m\u001b[1;34mu'attributes'\u001b[0m\u001b[1;33m]\u001b[0m\u001b[1;33m\u001b[0m\u001b[0m\n",
      "\u001b[1;31mKeyboardInterrupt\u001b[0m: "
     ]
    }
   ],
   "source": [
    "# train_attributes=[]\n",
    "# for image_id in tqdm(attribute_train_image_ids):\n",
    "#     image_attributes=get_image_attributes(image_id,all_attributes)\n",
    "#     for triple in image_attributes:\n",
    "#         triple_id=triple[u'id']\n",
    "#         triple_attritbues=triple[u'attributes']\n",
    "#         for attribute in triple_attritbues:\n",
    "#             train_attributes.append([attribute])"
   ]
  },
  {
   "cell_type": "code",
   "execution_count": null,
   "metadata": {
    "collapsed": true
   },
   "outputs": [],
   "source": [
    "dictionary = corpora.Dictionary(train_attributes)\n",
    "print len(dictionary)\n",
    "fname=\"../work/attribute_dic_freq.txt\"\n",
    "dictionary.save_as_text(fname, sort_by_word=False)\n",
    "dictionary.filter_extremes(no_below=5, no_above=1.0)\n",
    "dictionary.compactify() # remove gaps in id sequence after words that were removed\n",
    "index2token = dict((v, k) for k, v in dictionary.token2id.iteritems())\n",
    "ukn_id=len(dictionary.token2id)\n",
    "index2token[ukn_id]='unknown'\n",
    "print len(index2token)\n",
    "\n",
    "# with open('../work/index2attribute.pkl', 'w') as f:\n",
    "#     pickle.dump(index2token,f)\n",
    "#relation2index = dict((v, k) for k, v in index2relation.iteritems())"
   ]
  },
  {
   "cell_type": "code",
   "execution_count": 10,
   "metadata": {
    "collapsed": false
   },
   "outputs": [
    {
     "name": "stderr",
     "output_type": "stream",
     "text": [
      "  0%|          | 67/42728 [00:02<23:48, 29.86it/s]\n"
     ]
    },
    {
     "ename": "KeyboardInterrupt",
     "evalue": "",
     "output_type": "error",
     "traceback": [
      "\u001b[1;31m---------------------------------------------------------------------------\u001b[0m",
      "\u001b[1;31mKeyboardInterrupt\u001b[0m                         Traceback (most recent call last)",
      "\u001b[1;32m<ipython-input-10-abf6f2648fa1>\u001b[0m in \u001b[0;36m<module>\u001b[1;34m()\u001b[0m\n\u001b[0;32m      1\u001b[0m \u001b[0mtrain_relations\u001b[0m\u001b[1;33m=\u001b[0m\u001b[1;33m[\u001b[0m\u001b[1;33m]\u001b[0m\u001b[1;33m\u001b[0m\u001b[0m\n\u001b[0;32m      2\u001b[0m \u001b[1;32mfor\u001b[0m \u001b[0mimage_id\u001b[0m \u001b[1;32min\u001b[0m \u001b[0mtqdm\u001b[0m\u001b[1;33m(\u001b[0m\u001b[0mrelationship_train_image_ids\u001b[0m\u001b[1;33m)\u001b[0m\u001b[1;33m:\u001b[0m\u001b[1;33m\u001b[0m\u001b[0m\n\u001b[1;32m----> 3\u001b[1;33m     \u001b[0mimage_relationships\u001b[0m\u001b[1;33m=\u001b[0m\u001b[0mget_image_relationships\u001b[0m\u001b[1;33m(\u001b[0m\u001b[0mimage_id\u001b[0m\u001b[1;33m,\u001b[0m\u001b[0mall_relationships\u001b[0m\u001b[1;33m)\u001b[0m\u001b[1;33m\u001b[0m\u001b[0m\n\u001b[0m\u001b[0;32m      4\u001b[0m     \u001b[1;32mfor\u001b[0m \u001b[0mtriple\u001b[0m \u001b[1;32min\u001b[0m \u001b[0mimage_relationships\u001b[0m\u001b[1;33m:\u001b[0m\u001b[1;33m\u001b[0m\u001b[0m\n\u001b[0;32m      5\u001b[0m         \u001b[0mtriple_id\u001b[0m\u001b[1;33m=\u001b[0m\u001b[0mtriple\u001b[0m\u001b[1;33m[\u001b[0m\u001b[1;34mu'id'\u001b[0m\u001b[1;33m]\u001b[0m\u001b[1;33m\u001b[0m\u001b[0m\n",
      "\u001b[1;32m<ipython-input-7-ee95a9b25806>\u001b[0m in \u001b[0;36mget_image_relationships\u001b[1;34m(image_id, all_relationships)\u001b[0m\n\u001b[0;32m      1\u001b[0m \u001b[1;32mdef\u001b[0m \u001b[0mget_image_relationships\u001b[0m\u001b[1;33m(\u001b[0m\u001b[0mimage_id\u001b[0m\u001b[1;33m,\u001b[0m\u001b[0mall_relationships\u001b[0m\u001b[1;33m)\u001b[0m\u001b[1;33m:\u001b[0m\u001b[1;33m\u001b[0m\u001b[0m\n\u001b[0;32m      2\u001b[0m     \u001b[1;32mfor\u001b[0m \u001b[0mi\u001b[0m \u001b[1;32min\u001b[0m \u001b[0mxrange\u001b[0m\u001b[1;33m(\u001b[0m\u001b[0mlen\u001b[0m\u001b[1;33m(\u001b[0m\u001b[0mall_relationships\u001b[0m\u001b[1;33m)\u001b[0m\u001b[1;33m)\u001b[0m\u001b[1;33m:\u001b[0m\u001b[1;33m\u001b[0m\u001b[0m\n\u001b[1;32m----> 3\u001b[1;33m         \u001b[0mimage_id_\u001b[0m\u001b[1;33m=\u001b[0m\u001b[0mall_relationships\u001b[0m\u001b[1;33m[\u001b[0m\u001b[0mi\u001b[0m\u001b[1;33m]\u001b[0m\u001b[1;33m[\u001b[0m\u001b[1;34mu'id'\u001b[0m\u001b[1;33m]\u001b[0m\u001b[1;33m\u001b[0m\u001b[0m\n\u001b[0m\u001b[0;32m      4\u001b[0m         \u001b[1;32mif\u001b[0m \u001b[0mimage_id\u001b[0m\u001b[1;33m==\u001b[0m\u001b[0mimage_id_\u001b[0m\u001b[1;33m:\u001b[0m\u001b[1;33m\u001b[0m\u001b[0m\n\u001b[0;32m      5\u001b[0m             \u001b[0mrelationships\u001b[0m\u001b[1;33m=\u001b[0m\u001b[0mall_relationships\u001b[0m\u001b[1;33m[\u001b[0m\u001b[0mi\u001b[0m\u001b[1;33m]\u001b[0m\u001b[1;33m[\u001b[0m\u001b[1;34mu'relationships'\u001b[0m\u001b[1;33m]\u001b[0m\u001b[1;33m\u001b[0m\u001b[0m\n",
      "\u001b[1;31mKeyboardInterrupt\u001b[0m: "
     ]
    }
   ],
   "source": [
    "train_relations=[]\n",
    "for image_id in tqdm(relationship_train_image_ids):\n",
    "    image_relationships=get_image_relationships(image_id,all_relationships)\n",
    "    for triple in image_relationships:\n",
    "        triple_id=triple[u'id']\n",
    "        triple_predicate=triple[u'predicate']\n",
    "        train_relations.append([triple_predicate])"
   ]
  },
  {
   "cell_type": "code",
   "execution_count": null,
   "metadata": {
    "collapsed": true
   },
   "outputs": [],
   "source": [
    "dictionary = corpora.Dictionary(train_relations)\n",
    "print len(dictionary)\n",
    "fname=\"../work/relation_dic_freq.txt\"\n",
    "dictionary.save_as_text(fname, sort_by_word=False)\n",
    "dictionary.filter_extremes(no_below=5, no_above=1.0)\n",
    "dictionary.compactify() # remove gaps in id sequence after words that were removed\n",
    "index2token = dict((v, k) for k, v in dictionary.token2id.iteritems())\n",
    "ukn_id=len(dictionary.token2id)\n",
    "index2token[ukn_id]='unknown'\n",
    "print len(index2token)\n",
    "\n",
    "# with open('../work/index2relation.pkl', 'w') as f:\n",
    "#     pickle.dump(index2token,f)\n",
    "#relation2index = dict((v, k) for k, v in index2relation.iteritems())"
   ]
  },
  {
   "cell_type": "code",
   "execution_count": 11,
   "metadata": {
    "collapsed": true
   },
   "outputs": [],
   "source": [
    "with open('../work/index2relation.pkl', 'r') as f:\n",
    "    index2relation=pickle.load(f)\n",
    "relation2index = dict((v, k) for k, v in index2relation.iteritems())"
   ]
  },
  {
   "cell_type": "code",
   "execution_count": 12,
   "metadata": {
    "collapsed": true
   },
   "outputs": [],
   "source": [
    "with open('../work/index2attribute.pkl', 'r') as f:\n",
    "    index2attribute=pickle.load(f)\n",
    "attribute2index = dict((v, k) for k, v in index2attribute.iteritems())"
   ]
  },
  {
   "cell_type": "code",
   "execution_count": null,
   "metadata": {
    "collapsed": false
   },
   "outputs": [],
   "source": [
    "image_id=attribute_train_image_ids[0]\n",
    "image_objects=get_image_attributes(image_id,all_attributes)\n",
    "img_file=\"../data/images/%d.jpg\"%image_id\n",
    "img=cv2.imread(img_file)\n",
    "for image_object in image_objects:\n",
    "    object_x=image_object[u'x']\n",
    "    object_y=image_object[u'y']\n",
    "    object_w=image_object[u'w']\n",
    "    object_h=image_object[u'h']\n",
    "    triple_attritbues=image_object[u'attributes']\n",
    "    for attribute in triple_attritbues:\n",
    "        train_attributes.append(attribute)"
   ]
  },
  {
   "cell_type": "code",
   "execution_count": null,
   "metadata": {
    "collapsed": true
   },
   "outputs": [],
   "source": [
    "img_file=\"../data/images/%d.jpg\"%image_id\n",
    "\n",
    "img=cv2.imread(img_file)\n",
    "\n",
    "\n",
    "\n",
    "img= cv2.resize(img,(224,224))\n",
    "img=img.transpose(2, 0, 1)-MEAN_VALUES\n",
    "img=img.astype(xp.float32)\n",
    "\n",
    "\n",
    "x_batch = np.ndarray((1, 3, 224,224), dtype=np.float32)\n",
    "x_batch[0]=img\n",
    "if gpu_id >=0:\n",
    "    x = Variable(cuda.to_gpu(x_batch), volatile=True)\n",
    "else:\n",
    "    x = Variable(x_batch, volatile=True)\n",
    "image_feature_chainer, = func(inputs={'data': x}, outputs=['pool5/7x7_s1'],\n",
    "              disable=['loss1/ave_pool', 'loss2/ave_pool','loss3/classifier'],\n",
    "              train=False)\n",
    "\n",
    "image_feature_np=image_feature_chainer.data.reshape(1024)\n"
   ]
  },
  {
   "cell_type": "code",
   "execution_count": 16,
   "metadata": {
    "collapsed": false
   },
   "outputs": [],
   "source": [
    "def pre_extract_relation_feature(image_ids):\n",
    "    triple_id2subject_feature={}\n",
    "    triple_id2object_feature={}\n",
    "    triple_id2relation_id={}\n",
    "    for image_id in image_ids:\n",
    "        image_relationships=get_image_relationships(image_id,all_relationships)\n",
    "        img_file=\"../data/images/%d.jpg\"%image_id\n",
    "        img=cv2.imread(img_file,cv2.IMREAD_COLOR)\n",
    "        all_img_list=[]\n",
    "        triple_ids_tmp=[]\n",
    "        for triple in image_relationships:\n",
    "            triple_id=triple[u'id']\n",
    "            triple_predicate=triple[u'predicate']\n",
    "\n",
    "            if triple_predicate not in relation2index:\n",
    "                continue\n",
    "            relation_id=relation2index[triple_predicate]\n",
    "\n",
    "            triple_subject=triple[u'subject']\n",
    "            triple_subject_name=triple_subject['name']\n",
    "            triple_subject_x=triple_subject['x']\n",
    "            triple_subject_y=triple_subject['y']\n",
    "            triple_subject_w=triple_subject['w']\n",
    "            triple_subject_h=triple_subject['h']\n",
    "\n",
    "            triple_object=triple[u'object']\n",
    "            triple_object_name=triple_object['name']\n",
    "            triple_object_x=triple_object['x']\n",
    "            triple_object_y=triple_object['y']\n",
    "            triple_object_w=triple_object['w']\n",
    "            triple_object_h=triple_object['h']\n",
    "            \n",
    "            try:\n",
    "                img_sbj=img[triple_subject_y:triple_subject_y+triple_subject_h, triple_subject_x:triple_subject_x+triple_subject_w]\n",
    "                img_sbj=cv2.resize(img_sbj,(224,224))\n",
    "                img_sbj=img_sbj.transpose(2, 0, 1)-MEAN_VALUES\n",
    "                img_obj=img[triple_object_y:triple_object_y+triple_object_h, triple_object_x:triple_object_x+triple_object_w]\n",
    "                img_obj=cv2.resize(img_obj,(224,224))\n",
    "                img_obj=img_obj.transpose(2, 0, 1)-MEAN_VALUES\n",
    "            except Exception as e:\n",
    "                print 'image reading error'\n",
    "                print 'type:' + str(type(e))\n",
    "                print 'args:' + str(e.args)\n",
    "                print 'message:' + e.message.strip()\n",
    "                print 'image_id:'+ str(image_id)\n",
    "                print 'triple_id:'+ str(triple_id)\n",
    "                print \"\"\n",
    "                continue\n",
    "            triple_id2relation_id[triple_id]=relation_id\n",
    "            all_img_list.append(img_sbj)\n",
    "            all_img_list.append(img_obj)\n",
    "            triple_ids_tmp.append(triple_id)\n",
    "\n",
    "        x_batch = np.array(all_img_list, dtype=np.float32)\n",
    "        if gpu_id >=0:\n",
    "            x = Variable(cuda.to_gpu(x_batch), volatile=True)\n",
    "        else:\n",
    "            x = Variable(x_batch, volatile=True)\n",
    "        image_feature_chainer, = func(inputs={'data': x}, outputs=['pool5/7x7_s1'],\n",
    "                      disable=['loss1/ave_pool', 'loss2/ave_pool','loss3/classifier'],\n",
    "                      train=False)\n",
    "\n",
    "        shape=image_feature_chainer.data.shape[0:2]\n",
    "        image_feature_xp=image_feature_chainer.data.reshape(shape)\n",
    "        image_feature_np=cuda.to_cpu(image_feature_xp)\n",
    "\n",
    "        for i in xrange(image_feature_np.shape[0]/2):\n",
    "            triple_id=triple_ids_tmp[i]\n",
    "            triple_id2subject_feature[triple_id]=image_feature_np[2*i]\n",
    "            triple_id2object_feature[triple_id]=image_feature_np[2*i+1]\n",
    "\n",
    "    return triple_id2subject_feature, triple_id2object_feature,triple_id2relation_id"
   ]
  },
  {
   "cell_type": "code",
   "execution_count": 17,
   "metadata": {
    "collapsed": false
   },
   "outputs": [
    {
     "ename": "InvalidType",
     "evalue": "\nInvalid operation is performed in: Convolution2DFunction (Forward)\n\nExpect: in_types[0].ndim == 4\nActual: 1 != 4",
     "output_type": "error",
     "traceback": [
      "\u001b[1;31m---------------------------------------------------------------------------\u001b[0m",
      "\u001b[1;31mInvalidType\u001b[0m                               Traceback (most recent call last)",
      "\u001b[1;32m<ipython-input-17-d52b024ecf07>\u001b[0m in \u001b[0;36m<module>\u001b[1;34m()\u001b[0m\n\u001b[0;32m      1\u001b[0m \u001b[0mimage_id\u001b[0m\u001b[1;33m=\u001b[0m\u001b[0mrelationship_train_image_ids\u001b[0m\u001b[1;33m[\u001b[0m\u001b[1;36m279\u001b[0m\u001b[1;33m]\u001b[0m\u001b[1;33m\u001b[0m\u001b[0m\n\u001b[1;32m----> 2\u001b[1;33m \u001b[0mpre_extract_relation_feature\u001b[0m\u001b[1;33m(\u001b[0m\u001b[1;33m[\u001b[0m\u001b[0mimage_id\u001b[0m\u001b[1;33m]\u001b[0m\u001b[1;33m)\u001b[0m\u001b[1;33m\u001b[0m\u001b[0m\n\u001b[0m\u001b[0;32m      3\u001b[0m \u001b[1;31m#triple_id2subject_feature, triple_id2object_feature,triple_id2relation_id=pre_extract_relation_feature([image_id])\u001b[0m\u001b[1;33m\u001b[0m\u001b[1;33m\u001b[0m\u001b[0m\n",
      "\u001b[1;32m<ipython-input-16-bd6ba95c4046>\u001b[0m in \u001b[0;36mpre_extract_relation_feature\u001b[1;34m(image_ids)\u001b[0m\n\u001b[0;32m     59\u001b[0m         image_feature_chainer, = func(inputs={'data': x}, outputs=['pool5/7x7_s1'],\n\u001b[0;32m     60\u001b[0m                       \u001b[0mdisable\u001b[0m\u001b[1;33m=\u001b[0m\u001b[1;33m[\u001b[0m\u001b[1;34m'loss1/ave_pool'\u001b[0m\u001b[1;33m,\u001b[0m \u001b[1;34m'loss2/ave_pool'\u001b[0m\u001b[1;33m,\u001b[0m\u001b[1;34m'loss3/classifier'\u001b[0m\u001b[1;33m]\u001b[0m\u001b[1;33m,\u001b[0m\u001b[1;33m\u001b[0m\u001b[0m\n\u001b[1;32m---> 61\u001b[1;33m                       train=False)\n\u001b[0m\u001b[0;32m     62\u001b[0m \u001b[1;33m\u001b[0m\u001b[0m\n\u001b[0;32m     63\u001b[0m         \u001b[0mshape\u001b[0m\u001b[1;33m=\u001b[0m\u001b[0mimage_feature_chainer\u001b[0m\u001b[1;33m.\u001b[0m\u001b[0mdata\u001b[0m\u001b[1;33m.\u001b[0m\u001b[0mshape\u001b[0m\u001b[1;33m[\u001b[0m\u001b[1;36m0\u001b[0m\u001b[1;33m:\u001b[0m\u001b[1;36m2\u001b[0m\u001b[1;33m]\u001b[0m\u001b[1;33m\u001b[0m\u001b[0m\n",
      "\u001b[1;32m/home/stsutsui/anaconda2/lib/python2.7/site-packages/chainer/links/caffe/caffe_function.pyc\u001b[0m in \u001b[0;36m__call__\u001b[1;34m(self, inputs, outputs, disable, train)\u001b[0m\n\u001b[0;32m    184\u001b[0m             \u001b[0mfunc\u001b[0m \u001b[1;33m=\u001b[0m \u001b[0mself\u001b[0m\u001b[1;33m.\u001b[0m\u001b[0mforwards\u001b[0m\u001b[1;33m[\u001b[0m\u001b[0mfunc_name\u001b[0m\u001b[1;33m]\u001b[0m\u001b[1;33m\u001b[0m\u001b[0m\n\u001b[0;32m    185\u001b[0m             \u001b[0minput_vars\u001b[0m \u001b[1;33m=\u001b[0m \u001b[0mtuple\u001b[0m\u001b[1;33m(\u001b[0m\u001b[0mvariables\u001b[0m\u001b[1;33m[\u001b[0m\u001b[0mblob\u001b[0m\u001b[1;33m]\u001b[0m \u001b[1;32mfor\u001b[0m \u001b[0mblob\u001b[0m \u001b[1;32min\u001b[0m \u001b[0mbottom\u001b[0m\u001b[1;33m)\u001b[0m\u001b[1;33m\u001b[0m\u001b[0m\n\u001b[1;32m--> 186\u001b[1;33m             \u001b[0moutput_vars\u001b[0m \u001b[1;33m=\u001b[0m \u001b[0mfunc\u001b[0m\u001b[1;33m(\u001b[0m\u001b[1;33m*\u001b[0m\u001b[0minput_vars\u001b[0m\u001b[1;33m)\u001b[0m\u001b[1;33m\u001b[0m\u001b[0m\n\u001b[0m\u001b[0;32m    187\u001b[0m             \u001b[1;32mif\u001b[0m \u001b[1;32mnot\u001b[0m \u001b[0misinstance\u001b[0m\u001b[1;33m(\u001b[0m\u001b[0moutput_vars\u001b[0m\u001b[1;33m,\u001b[0m \u001b[0mcollections\u001b[0m\u001b[1;33m.\u001b[0m\u001b[0mIterable\u001b[0m\u001b[1;33m)\u001b[0m\u001b[1;33m:\u001b[0m\u001b[1;33m\u001b[0m\u001b[0m\n\u001b[0;32m    188\u001b[0m                 \u001b[0moutput_vars\u001b[0m \u001b[1;33m=\u001b[0m \u001b[0moutput_vars\u001b[0m\u001b[1;33m,\u001b[0m\u001b[1;33m\u001b[0m\u001b[0m\n",
      "\u001b[1;32m/home/stsutsui/anaconda2/lib/python2.7/site-packages/chainer/links/caffe/caffe_function.pyc\u001b[0m in \u001b[0;36m__call__\u001b[1;34m(self, *xs)\u001b[0m\n\u001b[0;32m    435\u001b[0m \u001b[1;33m\u001b[0m\u001b[0m\n\u001b[0;32m    436\u001b[0m     \u001b[1;32mdef\u001b[0m \u001b[0m__call__\u001b[0m\u001b[1;33m(\u001b[0m\u001b[0mself\u001b[0m\u001b[1;33m,\u001b[0m \u001b[1;33m*\u001b[0m\u001b[0mxs\u001b[0m\u001b[1;33m)\u001b[0m\u001b[1;33m:\u001b[0m\u001b[1;33m\u001b[0m\u001b[0m\n\u001b[1;32m--> 437\u001b[1;33m         \u001b[1;32mreturn\u001b[0m \u001b[0mself\u001b[0m\u001b[1;33m.\u001b[0m\u001b[0mcaffe_func\u001b[0m\u001b[1;33m[\u001b[0m\u001b[0mself\u001b[0m\u001b[1;33m.\u001b[0m\u001b[0mname\u001b[0m\u001b[1;33m]\u001b[0m\u001b[1;33m(\u001b[0m\u001b[1;33m*\u001b[0m\u001b[0mxs\u001b[0m\u001b[1;33m)\u001b[0m\u001b[1;33m\u001b[0m\u001b[0m\n\u001b[0m",
      "\u001b[1;32m/home/stsutsui/anaconda2/lib/python2.7/site-packages/chainer/links/connection/convolution_2d.pyc\u001b[0m in \u001b[0;36m__call__\u001b[1;34m(self, x)\u001b[0m\n\u001b[0;32m     75\u001b[0m         \"\"\"\n\u001b[0;32m     76\u001b[0m         return convolution_2d.convolution_2d(\n\u001b[1;32m---> 77\u001b[1;33m             x, self.W, self.b, self.stride, self.pad, self.use_cudnn)\n\u001b[0m\u001b[0;32m     78\u001b[0m \u001b[1;33m\u001b[0m\u001b[0m\n\u001b[0;32m     79\u001b[0m \u001b[1;33m\u001b[0m\u001b[0m\n",
      "\u001b[1;32m/home/stsutsui/anaconda2/lib/python2.7/site-packages/chainer/functions/connection/convolution_2d.pyc\u001b[0m in \u001b[0;36mconvolution_2d\u001b[1;34m(x, W, b, stride, pad, use_cudnn)\u001b[0m\n\u001b[0;32m    316\u001b[0m         \u001b[1;32mreturn\u001b[0m \u001b[0mfunc\u001b[0m\u001b[1;33m(\u001b[0m\u001b[0mx\u001b[0m\u001b[1;33m,\u001b[0m \u001b[0mW\u001b[0m\u001b[1;33m)\u001b[0m\u001b[1;33m\u001b[0m\u001b[0m\n\u001b[0;32m    317\u001b[0m     \u001b[1;32melse\u001b[0m\u001b[1;33m:\u001b[0m\u001b[1;33m\u001b[0m\u001b[0m\n\u001b[1;32m--> 318\u001b[1;33m         \u001b[1;32mreturn\u001b[0m \u001b[0mfunc\u001b[0m\u001b[1;33m(\u001b[0m\u001b[0mx\u001b[0m\u001b[1;33m,\u001b[0m \u001b[0mW\u001b[0m\u001b[1;33m,\u001b[0m \u001b[0mb\u001b[0m\u001b[1;33m)\u001b[0m\u001b[1;33m\u001b[0m\u001b[0m\n\u001b[0m",
      "\u001b[1;32m/home/stsutsui/anaconda2/lib/python2.7/site-packages/chainer/function.pyc\u001b[0m in \u001b[0;36m__call__\u001b[1;34m(self, *inputs)\u001b[0m\n\u001b[0;32m    113\u001b[0m \u001b[1;33m\u001b[0m\u001b[0m\n\u001b[0;32m    114\u001b[0m         \u001b[1;32mif\u001b[0m \u001b[0mself\u001b[0m\u001b[1;33m.\u001b[0m\u001b[0mtype_check_enable\u001b[0m\u001b[1;33m:\u001b[0m\u001b[1;33m\u001b[0m\u001b[0m\n\u001b[1;32m--> 115\u001b[1;33m             \u001b[0mself\u001b[0m\u001b[1;33m.\u001b[0m\u001b[0m_check_data_type_forward\u001b[0m\u001b[1;33m(\u001b[0m\u001b[0min_data\u001b[0m\u001b[1;33m)\u001b[0m\u001b[1;33m\u001b[0m\u001b[0m\n\u001b[0m\u001b[0;32m    116\u001b[0m \u001b[1;33m\u001b[0m\u001b[0m\n\u001b[0;32m    117\u001b[0m         \u001b[0mhooks\u001b[0m \u001b[1;33m=\u001b[0m \u001b[0mcollections\u001b[0m\u001b[1;33m.\u001b[0m\u001b[0mOrderedDict\u001b[0m\u001b[1;33m(\u001b[0m\u001b[0mchainer\u001b[0m\u001b[1;33m.\u001b[0m\u001b[0mget_function_hooks\u001b[0m\u001b[1;33m(\u001b[0m\u001b[1;33m)\u001b[0m\u001b[1;33m)\u001b[0m\u001b[1;33m\u001b[0m\u001b[0m\n",
      "\u001b[1;32m/home/stsutsui/anaconda2/lib/python2.7/site-packages/chainer/function.pyc\u001b[0m in \u001b[0;36m_check_data_type_forward\u001b[1;34m(self, in_data)\u001b[0m\n\u001b[0;32m    188\u001b[0m \u001b[1;33m\u001b[0m\u001b[0m\n\u001b[0;32m    189\u001b[0m {1}\"\"\".format(self.label, str(e))\n\u001b[1;32m--> 190\u001b[1;33m             \u001b[1;32mraise\u001b[0m \u001b[0mtype_check\u001b[0m\u001b[1;33m.\u001b[0m\u001b[0mInvalidType\u001b[0m\u001b[1;33m(\u001b[0m\u001b[0me\u001b[0m\u001b[1;33m.\u001b[0m\u001b[0mexpect\u001b[0m\u001b[1;33m,\u001b[0m \u001b[0me\u001b[0m\u001b[1;33m.\u001b[0m\u001b[0mactual\u001b[0m\u001b[1;33m,\u001b[0m \u001b[0mmsg\u001b[0m\u001b[1;33m=\u001b[0m\u001b[0mmsg\u001b[0m\u001b[1;33m)\u001b[0m\u001b[1;33m\u001b[0m\u001b[0m\n\u001b[0m\u001b[0;32m    191\u001b[0m \u001b[1;33m\u001b[0m\u001b[0m\n\u001b[0;32m    192\u001b[0m     \u001b[1;32mdef\u001b[0m \u001b[0mcheck_type_forward\u001b[0m\u001b[1;33m(\u001b[0m\u001b[0mself\u001b[0m\u001b[1;33m,\u001b[0m \u001b[0min_types\u001b[0m\u001b[1;33m)\u001b[0m\u001b[1;33m:\u001b[0m\u001b[1;33m\u001b[0m\u001b[0m\n",
      "\u001b[1;31mInvalidType\u001b[0m: \nInvalid operation is performed in: Convolution2DFunction (Forward)\n\nExpect: in_types[0].ndim == 4\nActual: 1 != 4"
     ]
    }
   ],
   "source": [
    "image_id=relationship_train_image_ids[279]\n",
    "pre_extract_relation_feature([image_id])\n",
    "#triple_id2subject_feature, triple_id2object_feature,triple_id2relation_id=pre_extract_relation_feature([image_id])"
   ]
  },
  {
   "cell_type": "code",
   "execution_count": 18,
   "metadata": {
    "collapsed": false
   },
   "outputs": [
    {
     "ename": "InvalidType",
     "evalue": "\nInvalid operation is performed in: Convolution2DFunction (Forward)\n\nExpect: in_types[0].ndim == 4\nActual: 1 != 4",
     "output_type": "error",
     "traceback": [
      "\u001b[1;31m---------------------------------------------------------------------------\u001b[0m",
      "\u001b[1;31mInvalidType\u001b[0m                               Traceback (most recent call last)",
      "\u001b[1;32m<ipython-input-18-1ff2155e91e1>\u001b[0m in \u001b[0;36m<module>\u001b[1;34m()\u001b[0m\n\u001b[0;32m     56\u001b[0m     image_feature_chainer, = func(inputs={'data': x}, outputs=['pool5/7x7_s1'],\n\u001b[0;32m     57\u001b[0m                   \u001b[0mdisable\u001b[0m\u001b[1;33m=\u001b[0m\u001b[1;33m[\u001b[0m\u001b[1;34m'loss1/ave_pool'\u001b[0m\u001b[1;33m,\u001b[0m \u001b[1;34m'loss2/ave_pool'\u001b[0m\u001b[1;33m,\u001b[0m\u001b[1;34m'loss3/classifier'\u001b[0m\u001b[1;33m]\u001b[0m\u001b[1;33m,\u001b[0m\u001b[1;33m\u001b[0m\u001b[0m\n\u001b[1;32m---> 58\u001b[1;33m                   train=False)\n\u001b[0m\u001b[0;32m     59\u001b[0m \u001b[1;33m\u001b[0m\u001b[0m\n\u001b[0;32m     60\u001b[0m     \u001b[0mshape\u001b[0m\u001b[1;33m=\u001b[0m\u001b[0mimage_feature_chainer\u001b[0m\u001b[1;33m.\u001b[0m\u001b[0mdata\u001b[0m\u001b[1;33m.\u001b[0m\u001b[0mshape\u001b[0m\u001b[1;33m[\u001b[0m\u001b[1;36m0\u001b[0m\u001b[1;33m:\u001b[0m\u001b[1;36m2\u001b[0m\u001b[1;33m]\u001b[0m\u001b[1;33m\u001b[0m\u001b[0m\n",
      "\u001b[1;32m/home/stsutsui/anaconda2/lib/python2.7/site-packages/chainer/links/caffe/caffe_function.pyc\u001b[0m in \u001b[0;36m__call__\u001b[1;34m(self, inputs, outputs, disable, train)\u001b[0m\n\u001b[0;32m    184\u001b[0m             \u001b[0mfunc\u001b[0m \u001b[1;33m=\u001b[0m \u001b[0mself\u001b[0m\u001b[1;33m.\u001b[0m\u001b[0mforwards\u001b[0m\u001b[1;33m[\u001b[0m\u001b[0mfunc_name\u001b[0m\u001b[1;33m]\u001b[0m\u001b[1;33m\u001b[0m\u001b[0m\n\u001b[0;32m    185\u001b[0m             \u001b[0minput_vars\u001b[0m \u001b[1;33m=\u001b[0m \u001b[0mtuple\u001b[0m\u001b[1;33m(\u001b[0m\u001b[0mvariables\u001b[0m\u001b[1;33m[\u001b[0m\u001b[0mblob\u001b[0m\u001b[1;33m]\u001b[0m \u001b[1;32mfor\u001b[0m \u001b[0mblob\u001b[0m \u001b[1;32min\u001b[0m \u001b[0mbottom\u001b[0m\u001b[1;33m)\u001b[0m\u001b[1;33m\u001b[0m\u001b[0m\n\u001b[1;32m--> 186\u001b[1;33m             \u001b[0moutput_vars\u001b[0m \u001b[1;33m=\u001b[0m \u001b[0mfunc\u001b[0m\u001b[1;33m(\u001b[0m\u001b[1;33m*\u001b[0m\u001b[0minput_vars\u001b[0m\u001b[1;33m)\u001b[0m\u001b[1;33m\u001b[0m\u001b[0m\n\u001b[0m\u001b[0;32m    187\u001b[0m             \u001b[1;32mif\u001b[0m \u001b[1;32mnot\u001b[0m \u001b[0misinstance\u001b[0m\u001b[1;33m(\u001b[0m\u001b[0moutput_vars\u001b[0m\u001b[1;33m,\u001b[0m \u001b[0mcollections\u001b[0m\u001b[1;33m.\u001b[0m\u001b[0mIterable\u001b[0m\u001b[1;33m)\u001b[0m\u001b[1;33m:\u001b[0m\u001b[1;33m\u001b[0m\u001b[0m\n\u001b[0;32m    188\u001b[0m                 \u001b[0moutput_vars\u001b[0m \u001b[1;33m=\u001b[0m \u001b[0moutput_vars\u001b[0m\u001b[1;33m,\u001b[0m\u001b[1;33m\u001b[0m\u001b[0m\n",
      "\u001b[1;32m/home/stsutsui/anaconda2/lib/python2.7/site-packages/chainer/links/caffe/caffe_function.pyc\u001b[0m in \u001b[0;36m__call__\u001b[1;34m(self, *xs)\u001b[0m\n\u001b[0;32m    435\u001b[0m \u001b[1;33m\u001b[0m\u001b[0m\n\u001b[0;32m    436\u001b[0m     \u001b[1;32mdef\u001b[0m \u001b[0m__call__\u001b[0m\u001b[1;33m(\u001b[0m\u001b[0mself\u001b[0m\u001b[1;33m,\u001b[0m \u001b[1;33m*\u001b[0m\u001b[0mxs\u001b[0m\u001b[1;33m)\u001b[0m\u001b[1;33m:\u001b[0m\u001b[1;33m\u001b[0m\u001b[0m\n\u001b[1;32m--> 437\u001b[1;33m         \u001b[1;32mreturn\u001b[0m \u001b[0mself\u001b[0m\u001b[1;33m.\u001b[0m\u001b[0mcaffe_func\u001b[0m\u001b[1;33m[\u001b[0m\u001b[0mself\u001b[0m\u001b[1;33m.\u001b[0m\u001b[0mname\u001b[0m\u001b[1;33m]\u001b[0m\u001b[1;33m(\u001b[0m\u001b[1;33m*\u001b[0m\u001b[0mxs\u001b[0m\u001b[1;33m)\u001b[0m\u001b[1;33m\u001b[0m\u001b[0m\n\u001b[0m",
      "\u001b[1;32m/home/stsutsui/anaconda2/lib/python2.7/site-packages/chainer/links/connection/convolution_2d.pyc\u001b[0m in \u001b[0;36m__call__\u001b[1;34m(self, x)\u001b[0m\n\u001b[0;32m     75\u001b[0m         \"\"\"\n\u001b[0;32m     76\u001b[0m         return convolution_2d.convolution_2d(\n\u001b[1;32m---> 77\u001b[1;33m             x, self.W, self.b, self.stride, self.pad, self.use_cudnn)\n\u001b[0m\u001b[0;32m     78\u001b[0m \u001b[1;33m\u001b[0m\u001b[0m\n\u001b[0;32m     79\u001b[0m \u001b[1;33m\u001b[0m\u001b[0m\n",
      "\u001b[1;32m/home/stsutsui/anaconda2/lib/python2.7/site-packages/chainer/functions/connection/convolution_2d.pyc\u001b[0m in \u001b[0;36mconvolution_2d\u001b[1;34m(x, W, b, stride, pad, use_cudnn)\u001b[0m\n\u001b[0;32m    316\u001b[0m         \u001b[1;32mreturn\u001b[0m \u001b[0mfunc\u001b[0m\u001b[1;33m(\u001b[0m\u001b[0mx\u001b[0m\u001b[1;33m,\u001b[0m \u001b[0mW\u001b[0m\u001b[1;33m)\u001b[0m\u001b[1;33m\u001b[0m\u001b[0m\n\u001b[0;32m    317\u001b[0m     \u001b[1;32melse\u001b[0m\u001b[1;33m:\u001b[0m\u001b[1;33m\u001b[0m\u001b[0m\n\u001b[1;32m--> 318\u001b[1;33m         \u001b[1;32mreturn\u001b[0m \u001b[0mfunc\u001b[0m\u001b[1;33m(\u001b[0m\u001b[0mx\u001b[0m\u001b[1;33m,\u001b[0m \u001b[0mW\u001b[0m\u001b[1;33m,\u001b[0m \u001b[0mb\u001b[0m\u001b[1;33m)\u001b[0m\u001b[1;33m\u001b[0m\u001b[0m\n\u001b[0m",
      "\u001b[1;32m/home/stsutsui/anaconda2/lib/python2.7/site-packages/chainer/function.pyc\u001b[0m in \u001b[0;36m__call__\u001b[1;34m(self, *inputs)\u001b[0m\n\u001b[0;32m    113\u001b[0m \u001b[1;33m\u001b[0m\u001b[0m\n\u001b[0;32m    114\u001b[0m         \u001b[1;32mif\u001b[0m \u001b[0mself\u001b[0m\u001b[1;33m.\u001b[0m\u001b[0mtype_check_enable\u001b[0m\u001b[1;33m:\u001b[0m\u001b[1;33m\u001b[0m\u001b[0m\n\u001b[1;32m--> 115\u001b[1;33m             \u001b[0mself\u001b[0m\u001b[1;33m.\u001b[0m\u001b[0m_check_data_type_forward\u001b[0m\u001b[1;33m(\u001b[0m\u001b[0min_data\u001b[0m\u001b[1;33m)\u001b[0m\u001b[1;33m\u001b[0m\u001b[0m\n\u001b[0m\u001b[0;32m    116\u001b[0m \u001b[1;33m\u001b[0m\u001b[0m\n\u001b[0;32m    117\u001b[0m         \u001b[0mhooks\u001b[0m \u001b[1;33m=\u001b[0m \u001b[0mcollections\u001b[0m\u001b[1;33m.\u001b[0m\u001b[0mOrderedDict\u001b[0m\u001b[1;33m(\u001b[0m\u001b[0mchainer\u001b[0m\u001b[1;33m.\u001b[0m\u001b[0mget_function_hooks\u001b[0m\u001b[1;33m(\u001b[0m\u001b[1;33m)\u001b[0m\u001b[1;33m)\u001b[0m\u001b[1;33m\u001b[0m\u001b[0m\n",
      "\u001b[1;32m/home/stsutsui/anaconda2/lib/python2.7/site-packages/chainer/function.pyc\u001b[0m in \u001b[0;36m_check_data_type_forward\u001b[1;34m(self, in_data)\u001b[0m\n\u001b[0;32m    188\u001b[0m \u001b[1;33m\u001b[0m\u001b[0m\n\u001b[0;32m    189\u001b[0m {1}\"\"\".format(self.label, str(e))\n\u001b[1;32m--> 190\u001b[1;33m             \u001b[1;32mraise\u001b[0m \u001b[0mtype_check\u001b[0m\u001b[1;33m.\u001b[0m\u001b[0mInvalidType\u001b[0m\u001b[1;33m(\u001b[0m\u001b[0me\u001b[0m\u001b[1;33m.\u001b[0m\u001b[0mexpect\u001b[0m\u001b[1;33m,\u001b[0m \u001b[0me\u001b[0m\u001b[1;33m.\u001b[0m\u001b[0mactual\u001b[0m\u001b[1;33m,\u001b[0m \u001b[0mmsg\u001b[0m\u001b[1;33m=\u001b[0m\u001b[0mmsg\u001b[0m\u001b[1;33m)\u001b[0m\u001b[1;33m\u001b[0m\u001b[0m\n\u001b[0m\u001b[0;32m    191\u001b[0m \u001b[1;33m\u001b[0m\u001b[0m\n\u001b[0;32m    192\u001b[0m     \u001b[1;32mdef\u001b[0m \u001b[0mcheck_type_forward\u001b[0m\u001b[1;33m(\u001b[0m\u001b[0mself\u001b[0m\u001b[1;33m,\u001b[0m \u001b[0min_types\u001b[0m\u001b[1;33m)\u001b[0m\u001b[1;33m:\u001b[0m\u001b[1;33m\u001b[0m\u001b[0m\n",
      "\u001b[1;31mInvalidType\u001b[0m: \nInvalid operation is performed in: Convolution2DFunction (Forward)\n\nExpect: in_types[0].ndim == 4\nActual: 1 != 4"
     ]
    }
   ],
   "source": [
    "image_id=relationship_train_image_ids[279]\n",
    "for image_id in [image_id]:\n",
    "    image_relationships=get_image_relationships(image_id,all_relationships)\n",
    "    img_file=\"../data/images/%d.jpg\"%image_id\n",
    "    img=cv2.imread(img_file,cv2.IMREAD_COLOR)\n",
    "    all_img_list=[]\n",
    "    triple_ids_tmp=[]\n",
    "    for triple in image_relationships:\n",
    "        triple_id=triple[u'id']\n",
    "        triple_predicate=triple[u'predicate']\n",
    "\n",
    "        if triple_predicate not in relation2index:\n",
    "            continue\n",
    "        relation_id=relation2index[triple_predicate]\n",
    "\n",
    "        triple_subject=triple[u'subject']\n",
    "        triple_subject_name=triple_subject['name']\n",
    "        triple_subject_x=triple_subject['x']\n",
    "        triple_subject_y=triple_subject['y']\n",
    "        triple_subject_w=triple_subject['w']\n",
    "        triple_subject_h=triple_subject['h']\n",
    "\n",
    "        triple_object=triple[u'object']\n",
    "        triple_object_name=triple_object['name']\n",
    "        triple_object_x=triple_object['x']\n",
    "        triple_object_y=triple_object['y']\n",
    "        triple_object_w=triple_object['w']\n",
    "        triple_object_h=triple_object['h']\n",
    "\n",
    "        try:\n",
    "            img_sbj=img[triple_subject_y:triple_subject_y+triple_subject_h, triple_subject_x:triple_subject_x+triple_subject_w]\n",
    "            img_sbj=cv2.resize(img_sbj,(224,224))\n",
    "            img_sbj=img_sbj.transpose(2, 0, 1)-MEAN_VALUES\n",
    "            img_obj=img[triple_object_y:triple_object_y+triple_object_h, triple_object_x:triple_object_x+triple_object_w]\n",
    "            img_obj=cv2.resize(img_obj,(224,224))\n",
    "            img_obj=img_obj.transpose(2, 0, 1)-MEAN_VALUES\n",
    "        except Exception as e:\n",
    "            print 'image reading error'\n",
    "            print 'type:' + str(type(e))\n",
    "            print 'args:' + str(e.args)\n",
    "            print 'message:' + e.message.strip()\n",
    "            print 'image_id:'+ str(image_id)\n",
    "            print 'triple_id:'+ str(triple_id)\n",
    "            print \"\"\n",
    "            continue\n",
    "        triple_id2relation_id[triple_id]=relation_id\n",
    "        all_img_list.append(img_sbj)\n",
    "        all_img_list.append(img_obj)\n",
    "        triple_ids_tmp.append(triple_id)\n",
    "\n",
    "    x_batch = np.array(all_img_list, dtype=np.float32)\n",
    "    if gpu_id >=0:\n",
    "        x = Variable(cuda.to_gpu(x_batch), volatile=True)\n",
    "    else:\n",
    "        x = Variable(x_batch, volatile=True)\n",
    "    image_feature_chainer, = func(inputs={'data': x}, outputs=['pool5/7x7_s1'],\n",
    "                  disable=['loss1/ave_pool', 'loss2/ave_pool','loss3/classifier'],\n",
    "                  train=False)\n",
    "\n",
    "    shape=image_feature_chainer.data.shape[0:2]\n",
    "    image_feature_xp=image_feature_chainer.data.reshape(shape)\n",
    "    image_feature_np=cuda.to_cpu(image_feature_xp)\n",
    "\n",
    "    for i in xrange(image_feature_np.shape[0]/2):\n",
    "        triple_id=triple_ids_tmp[i]\n",
    "        triple_id2subject_feature[triple_id]=image_feature_np[2*i]\n",
    "        triple_id2object_feature[triple_id]=image_feature_np[2*i+1]"
   ]
  },
  {
   "cell_type": "code",
   "execution_count": 145,
   "metadata": {
    "collapsed": false
   },
   "outputs": [
    {
     "ename": "error",
     "evalue": "/home/travis/miniconda/conda-bld/work/opencv-3.1.0/modules/imgproc/src/imgwarp.cpp:3229: error: (-215) ssize.area() > 0 in function resize\n",
     "output_type": "error",
     "traceback": [
      "\u001b[1;31m---------------------------------------------------------------------------\u001b[0m",
      "\u001b[1;31merror\u001b[0m                                     Traceback (most recent call last)",
      "\u001b[1;32m<ipython-input-145-9ac08ee5c4b3>\u001b[0m in \u001b[0;36m<module>\u001b[1;34m()\u001b[0m\n\u001b[0;32m     36\u001b[0m             \u001b[0mtriple_object_h\u001b[0m\u001b[1;33m=\u001b[0m\u001b[0mtriple_object\u001b[0m\u001b[1;33m[\u001b[0m\u001b[1;34m'h'\u001b[0m\u001b[1;33m]\u001b[0m\u001b[1;33m\u001b[0m\u001b[0m\n\u001b[0;32m     37\u001b[0m             \u001b[0mimg_obj\u001b[0m\u001b[1;33m=\u001b[0m\u001b[0mimg\u001b[0m\u001b[1;33m[\u001b[0m\u001b[0mtriple_object_y\u001b[0m\u001b[1;33m:\u001b[0m\u001b[0mtriple_object_y\u001b[0m\u001b[1;33m+\u001b[0m\u001b[0mtriple_object_h\u001b[0m\u001b[1;33m,\u001b[0m \u001b[0mtriple_object_x\u001b[0m\u001b[1;33m:\u001b[0m\u001b[0mtriple_object_x\u001b[0m\u001b[1;33m+\u001b[0m\u001b[0mtriple_object_w\u001b[0m\u001b[1;33m]\u001b[0m\u001b[1;33m\u001b[0m\u001b[0m\n\u001b[1;32m---> 38\u001b[1;33m             \u001b[0mimg_obj\u001b[0m\u001b[1;33m=\u001b[0m\u001b[0mcv2\u001b[0m\u001b[1;33m.\u001b[0m\u001b[0mresize\u001b[0m\u001b[1;33m(\u001b[0m\u001b[0mimg_obj\u001b[0m\u001b[1;33m,\u001b[0m\u001b[1;33m(\u001b[0m\u001b[1;36m224\u001b[0m\u001b[1;33m,\u001b[0m\u001b[1;36m224\u001b[0m\u001b[1;33m)\u001b[0m\u001b[1;33m)\u001b[0m\u001b[1;33m\u001b[0m\u001b[0m\n\u001b[0m\u001b[0;32m     39\u001b[0m             \u001b[0mimg_obj\u001b[0m\u001b[1;33m=\u001b[0m\u001b[0mimg_obj\u001b[0m\u001b[1;33m.\u001b[0m\u001b[0mtranspose\u001b[0m\u001b[1;33m(\u001b[0m\u001b[1;36m2\u001b[0m\u001b[1;33m,\u001b[0m \u001b[1;36m0\u001b[0m\u001b[1;33m,\u001b[0m \u001b[1;36m1\u001b[0m\u001b[1;33m)\u001b[0m\u001b[1;33m-\u001b[0m\u001b[0mMEAN_VALUES\u001b[0m\u001b[1;33m\u001b[0m\u001b[0m\n\u001b[0;32m     40\u001b[0m             \u001b[0mall_img_list\u001b[0m\u001b[1;33m.\u001b[0m\u001b[0mappend\u001b[0m\u001b[1;33m(\u001b[0m\u001b[0mimg_obj\u001b[0m\u001b[1;33m)\u001b[0m\u001b[1;33m\u001b[0m\u001b[0m\n",
      "\u001b[1;31merror\u001b[0m: /home/travis/miniconda/conda-bld/work/opencv-3.1.0/modules/imgproc/src/imgwarp.cpp:3229: error: (-215) ssize.area() > 0 in function resize\n"
     ]
    }
   ],
   "source": [
    "image_ids=[image_id]\n",
    "\n",
    "            "
   ]
  },
  {
   "cell_type": "code",
   "execution_count": 19,
   "metadata": {
    "collapsed": false
   },
   "outputs": [
    {
     "data": {
      "text/plain": [
       "array([], dtype=float32)"
      ]
     },
     "execution_count": 19,
     "metadata": {},
     "output_type": "execute_result"
    }
   ],
   "source": [
    "x_batch"
   ]
  },
  {
   "cell_type": "code",
   "execution_count": 149,
   "metadata": {
    "collapsed": false
   },
   "outputs": [
    {
     "name": "stdout",
     "output_type": "stream",
     "text": [
      "-1\n",
      "221\n",
      "500\n",
      "150\n"
     ]
    }
   ],
   "source": [
    "img_obj.shape\n",
    "print triple_object_x\n",
    "print triple_object_y\n",
    "print triple_object_w\n",
    "print triple_object_h"
   ]
  },
  {
   "cell_type": "code",
   "execution_count": 151,
   "metadata": {
    "collapsed": true
   },
   "outputs": [],
   "source": [
    "img_obj=img[triple_object_y:triple_object_y+triple_object_h, triple_object_x:triple_object_x+triple_object_w]"
   ]
  },
  {
   "cell_type": "code",
   "execution_count": 152,
   "metadata": {
    "collapsed": false
   },
   "outputs": [
    {
     "data": {
      "text/plain": [
       "(150, 0, 3)"
      ]
     },
     "execution_count": 152,
     "metadata": {},
     "output_type": "execute_result"
    }
   ],
   "source": [
    "img_obj.shape"
   ]
  },
  {
   "cell_type": "code",
   "execution_count": 153,
   "metadata": {
    "collapsed": false
   },
   "outputs": [
    {
     "name": "stdout",
     "output_type": "stream",
     "text": [
      "-1\n",
      "499\n"
     ]
    }
   ],
   "source": [
    "print triple_object_x\n",
    "print triple_object_x+triple_object_w"
   ]
  },
  {
   "cell_type": "code",
   "execution_count": null,
   "metadata": {
    "collapsed": true
   },
   "outputs": [],
   "source": [
    "def pre_extract_attribute_feature(image_ids):\n",
    "    triple_id2subject_feature={}\n",
    "    triple_id2attribute_id={}\n",
    "    for image_id in image_ids:\n",
    "        image_objects=get_image_attributes(image_id,all_attributes)\n",
    "        img_file=\"../data/images/%d.jpg\"%image_id\n",
    "        img=cv2.imread(img_file)\n",
    "        all_img_list=[]\n",
    "        triple_ids_tmp=[]\n",
    "        for image_object in image_objects:\n",
    "            object_x=image_object[u'x']\n",
    "            object_y=image_object[u'y']\n",
    "            object_w=image_object[u'w']\n",
    "            object_h=image_object[u'h']\n",
    "            triple_attritbues=image_object[u'attributes']\n",
    "            for attribute in triple_attritbues:\n",
    "                train_attributes.append(attribute)\n",
    "        \n",
    "        image_relationships=get_image_relationships(image_id,all_relationships)\n",
    "\n",
    "        for triple in image_relationships:\n",
    "            triple_id=triple[u'id']\n",
    "            triple_predicate=triple[u'predicate']\n",
    "\n",
    "            if triple_predicate not in relation2index:\n",
    "                continue\n",
    "\n",
    "            relation_id=relation2index[triple_predicate]\n",
    "            triple_id2relation_id[triple_id]=relation_id\n",
    "\n",
    "            triple_ids_tmp.append(triple_id)\n",
    "\n",
    "            triple_subject=triple[u'subject']\n",
    "            triple_subject_name=triple_subject['name']\n",
    "            triple_subject_x=triple_subject['x']\n",
    "            triple_subject_y=triple_subject['y']\n",
    "            triple_subject_w=triple_subject['w']\n",
    "            triple_subject_h=triple_subject['h']\n",
    "            img_sbj=img[triple_subject_y:triple_subject_y+triple_subject_h, triple_subject_x:triple_subject_x+triple_subject_w]\n",
    "            img_sbj=cv2.resize(img_sbj,(224,224))\n",
    "            img_sbj=img_sbj.transpose(2, 0, 1)-MEAN_VALUES\n",
    "            all_img_list.append(img_sbj)\n",
    "\n",
    "            triple_object=triple[u'object']\n",
    "            triple_object_name=triple_object['name']\n",
    "            triple_object_x=triple_object['x']\n",
    "            triple_object_y=triple_object['y']\n",
    "            triple_object_w=triple_object['w']\n",
    "            triple_object_h=triple_object['h']\n",
    "            img_obj=img[triple_object_y:triple_object_y+triple_object_h, triple_object_x:triple_object_x+triple_object_w]\n",
    "            img_obj=cv2.resize(img_obj,(224,224))\n",
    "            img_obj=img_obj.transpose(2, 0, 1)-MEAN_VALUES\n",
    "            all_img_list.append(img_obj)\n",
    "\n",
    "        x_batch = np.array(all_img_list, dtype=np.float32)\n",
    "        if gpu_id >=0:\n",
    "            x = Variable(cuda.to_gpu(x_batch), volatile=True)\n",
    "        else:\n",
    "            x = Variable(x_batch, volatile=True)\n",
    "        image_feature_chainer, = func(inputs={'data': x}, outputs=['pool5/7x7_s1'],\n",
    "                      disable=['loss1/ave_pool', 'loss2/ave_pool','loss3/classifier'],\n",
    "                      train=False)\n",
    "\n",
    "        shape=image_feature_chainer.data.shape[0:2]\n",
    "        image_feature_xp=image_feature_chainer.data.reshape(shape)\n",
    "        image_feature_np=cuda.to_cpu(image_feature_xp)\n",
    "\n",
    "        for i in xrange(image_feature_np.shape[0]/2):\n",
    "            triple_id=triple_ids_tmp[i]\n",
    "            triple_id2subject_feature[triple_id]=image_feature_np[2*i]\n",
    "            triple_id2object_feature[triple_id]=image_feature_np[2*i+1]\n",
    "\n",
    "    return triple_id2subject_feature,triple_id2attribute_id"
   ]
  },
  {
   "cell_type": "code",
   "execution_count": null,
   "metadata": {
    "collapsed": true
   },
   "outputs": [],
   "source": [
    "image_id=attribute_train_image_ids[0]\n",
    "triple_id2subject_feature,triple_id2attribute_id=pre_extract_attribute_feature([image_id])"
   ]
  }
 ],
 "metadata": {
  "kernelspec": {
   "display_name": "Python 2",
   "language": "python",
   "name": "python2"
  },
  "language_info": {
   "codemirror_mode": {
    "name": "ipython",
    "version": 2
   },
   "file_extension": ".py",
   "mimetype": "text/x-python",
   "name": "python",
   "nbconvert_exporter": "python",
   "pygments_lexer": "ipython2",
   "version": "2.7.11"
  }
 },
 "nbformat": 4,
 "nbformat_minor": 0
}
