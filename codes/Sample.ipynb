{
 "cells": [
  {
   "cell_type": "code",
   "execution_count": 1,
   "metadata": {
    "collapsed": true
   },
   "outputs": [],
   "source": [
    "#!/usr/bin/env python\n",
    "# -*- coding: utf-8 -*-\n",
    "\n",
    "import os\n",
    "os.environ[\"CHAINER_TYPE_CHECK\"] = \"0\" #to disable type check. \n",
    "import chainer \n",
    "#Check che below is False if you disabled type check\n",
    "#print(chainer.functions.Linear(1,1).type_check_enable) \n",
    "\n",
    "import os\n",
    "\n",
    "\n",
    "import chainer.functions as F\n",
    "from chainer import cuda\n",
    "from chainer import Function, FunctionSet, Variable, optimizers, serializers\n",
    "\n",
    "import argparse\n",
    "import numpy as np\n",
    "import cPickle as cpickle\n",
    "import pickle\n",
    "import random\n",
    "import unicodecsv as csv\n",
    "from tqdm import tqdm\n",
    "import cv2"
   ]
  },
  {
   "cell_type": "code",
   "execution_count": 2,
   "metadata": {
    "collapsed": false
   },
   "outputs": [
    {
     "name": "stdout",
     "output_type": "stream",
     "text": [
      "done\n"
     ]
    }
   ],
   "source": [
    "MEAN_VALUES = np.array([104, 117, 123]).reshape((3,1,1))\n",
    "gpu_id=-1\n",
    "#Load Caffe Model\n",
    "cnn_model_place=\"../chainer_caption_generation/data/bvlc_googlenet_caffe_chainer.pkl\"\n",
    "with open(cnn_model_place, 'r') as f:\n",
    "    func = pickle.load(f)\n",
    "if gpu_id>= 0:\n",
    "    func.to_gpu()\n",
    "print \"done\""
   ]
  },
  {
   "cell_type": "code",
   "execution_count": 3,
   "metadata": {
    "collapsed": true
   },
   "outputs": [],
   "source": [
    "def extract_img_feature(img_file):\n",
    "    img=cv2.imread(img_file,cv2.IMREAD_COLOR)\n",
    "    img=cv2.resize(img,(224,224))\n",
    "    img=img.transpose(2, 0, 1)-MEAN_VALUES\n",
    "    x_batch = np.array([img], dtype=np.float32)\n",
    "    if gpu_id >=0:\n",
    "        x = Variable(cuda.to_gpu(x_batch), volatile=True)\n",
    "    else:\n",
    "        x = Variable(x_batch, volatile=True)\n",
    "    image_feature_chainer, = func(inputs={'data': x}, outputs=['pool5/7x7_s1'],\n",
    "                  disable=['loss1/ave_pool', 'loss2/ave_pool','loss3/classifier'],\n",
    "                  train=False)\n",
    "    return image_feature_chainer.data.reshape(1024)"
   ]
  },
  {
   "cell_type": "code",
   "execution_count": 90,
   "metadata": {
    "collapsed": false
   },
   "outputs": [],
   "source": [
    "img_file=\"../sample_images/whole.png\"\n",
    "whole=extract_img_feature(img_file)\n",
    "img_file=\"../sample_images/man_top.png\"\n",
    "man_top=extract_img_feature(img_file)\n",
    "img_file=\"../sample_images/bicycle.png\"\n",
    "bicycle=extract_img_feature(img_file)\n",
    "img_file=\"../sample_images/potted_plant.png\"\n",
    "potted_plant=extract_img_feature(img_file)\n",
    "img_file=\"../sample_images/man_right.png\"\n",
    "man_right=extract_img_feature(img_file)\n",
    "img_file=\"../sample_images/tree.png\"\n",
    "tree=extract_img_feature(img_file)\n",
    "img_file=\"../sample_images/road.png\"\n",
    "road=extract_img_feature(img_file)\n",
    "img_file=\"../sample_images/sky.png\"\n",
    "sky=extract_img_feature(img_file)\n",
    "img_file=\"../sample_images/right_gate.png\"\n",
    "right_gate=extract_img_feature(img_file)"
   ]
  },
  {
   "cell_type": "code",
   "execution_count": 5,
   "metadata": {
    "collapsed": false
   },
   "outputs": [],
   "source": [
    "#Relation Model Preparation\n",
    "gpu_id=-1\n",
    "\n",
    "with open('../work/index2relation.pkl', 'r') as f:\n",
    "    index2relation=pickle.load(f)\n",
    "relation2index = dict((v, k) for k, v in index2relation.iteritems())\n",
    "\n",
    "image_feature_dim=1024#image feature dimention per image\n",
    "n_units = 1024  # number of units per layer\n",
    "vocab_size=len(relation2index)\n",
    "\n",
    "model_rel = chainer.FunctionSet()\n",
    "model_rel.img_feature2vec=F.Linear(3*image_feature_dim, n_units)#parameter  W,b\n",
    "model_rel.h1=F.Linear(n_units, n_units)#hidden unit,#parameter  W,b\n",
    "model_rel.out=F.Linear(n_units, vocab_size)#parameter  W,b\n",
    "\n",
    "model_dir='../experiment1/'\n",
    "model_place=model_dir+'/relation_model%d.chainer'%0\n",
    "serializers.load_hdf5(model_place, model_rel)#load modeldir\n",
    "\n",
    "#To GPU\n",
    "if gpu_id >= 0:\n",
    "    model_rel.to_gpu()\n",
    "\n",
    "#Define Newtowork (Forward)\n",
    "def forward_rel(x_data):\n",
    "    train=False\n",
    "    x = Variable(x_data, volatile= not train)\n",
    "    l1 = F.relu(model_rel.img_feature2vec(x))\n",
    "    l2 = F.relu(model_rel.h1(l1))\n",
    "    y = model_rel.out(l2)\n",
    "    return F.softmax(y)"
   ]
  },
  {
   "cell_type": "code",
   "execution_count": 97,
   "metadata": {
    "collapsed": false
   },
   "outputs": [],
   "source": [
    "#Attribute Model Preparation\n",
    "\n",
    "with open('../work/index2attribute.pkl', 'r') as f:\n",
    "    index2attribute=pickle.load(f)\n",
    "attribute2index = dict((v, k) for k, v in index2attribute.iteritems())\n",
    "\n",
    "#Model Preparation\n",
    "image_feature_dim=1024#image feature dimention per image\n",
    "n_units = 128  # number of units per layer\n",
    "vocab_size=len(attribute2index)\n",
    "\n",
    "model_attr = chainer.FunctionSet()\n",
    "model_attr.img_feature2vec=F.Linear(2*image_feature_dim, n_units)#parameter  W,b\n",
    "model_attr.bn_feature=F.BatchNormalization(n_units)#parameter  sigma,gamma\n",
    "model_attr.h1=F.Linear(n_units, n_units)#hidden unit,#parameter  W,b\n",
    "model_attr.bn1=F.BatchNormalization(n_units)#parameter  gamma,beta\n",
    "model_attr.out=F.Linear(n_units, vocab_size)#parameter  W,b\n",
    "\n",
    "model_dir='../experiment2a/'\n",
    "model_place=model_dir+'/attribute_model%d.chainer'%2\n",
    "serializers.load_hdf5(model_place, model_attr)#load modeldir\n",
    "\n",
    "#To GPU\n",
    "if gpu_id >= 0:\n",
    "    model_attr.to_gpu()\n",
    "\n",
    "#Define Newtowork (Forward)\n",
    "def forward_attr(x_data):\n",
    "    train=True\n",
    "    x = Variable(x_data,volatile=not train)\n",
    "    feature_input = F.relu(model_attr.bn_feature(model_attr.img_feature2vec(x)))\n",
    "    l1 = F.relu(model_attr.bn1(model_attr.h1(feature_input)))\n",
    "    y = model_attr.out(l1)\n",
    "    return F.softmax(y)"
   ]
  },
  {
   "cell_type": "markdown",
   "metadata": {},
   "source": [
    "# attribute"
   ]
  },
  {
   "cell_type": "code",
   "execution_count": 98,
   "metadata": {
    "collapsed": false
   },
   "outputs": [],
   "source": [
    "def get_attribtue_score(feature1,feature2):\n",
    "    vec=np.ones([2*image_feature_dim],dtype=np.float32)\n",
    "    vec[0:image_feature_dim]=feature1\n",
    "    vec[image_feature_dim:2*image_feature_dim]=feature2\n",
    "    x_batch=np.array([vec],dtype=np.float32)\n",
    "    dist=forward_attr(x_batch).data[0]\n",
    "    return dist"
   ]
  },
  {
   "cell_type": "code",
   "execution_count": 99,
   "metadata": {
    "collapsed": false
   },
   "outputs": [
    {
     "name": "stdout",
     "output_type": "stream",
     "text": [
      "#1 \t 0.6025316194% \t white\n",
      "#2 \t 0.4626981448% \t black\n",
      "#3 \t 0.3531251568% \t blue\n",
      "#4 \t 0.2986895852% \t visible\n",
      "#5 \t 0.2916357713% \t green\n",
      "#6 \t 0.2750195330% \t red\n",
      "#7 \t 0.2717502182% \t here\n",
      "#8 \t 0.2491382649% \t small\n",
      "#9 \t 0.2459737472% \t large\n",
      "#10 \t 0.2394111594% \t brown\n"
     ]
    }
   ],
   "source": [
    "score=get_attribtue_score(whole,man_top)\n",
    "top_k = 10\n",
    "top_index=np.argsort(score)[::-1][:top_k]\n",
    "rank=1\n",
    "for index in top_index:\n",
    "    print('#%d \\t %4.10f%% \\t %s' % (rank, score[index]*100, index2attribute[index]))\n",
    "    rank+=1"
   ]
  },
  {
   "cell_type": "code",
   "execution_count": 132,
   "metadata": {
    "collapsed": false
   },
   "outputs": [
    {
     "name": "stdout",
     "output_type": "stream",
     "text": [
      "#1 \t 0.6025316194% \t white\n",
      "#2 \t 0.4626981448% \t black\n",
      "#3 \t 0.3531251568% \t blue\n",
      "#4 \t 0.2986895852% \t visible\n",
      "#5 \t 0.2916357713% \t green\n",
      "#6 \t 0.2750195330% \t red\n",
      "#7 \t 0.2717502182% \t here\n",
      "#8 \t 0.2491382649% \t small\n",
      "#9 \t 0.2459737472% \t large\n",
      "#10 \t 0.2394111594% \t brown\n"
     ]
    }
   ],
   "source": [
    "score=get_attribtue_score(whole,bicycle)\n",
    "top_k = 10\n",
    "top_index=np.argsort(score)[::-1][:top_k]\n",
    "rank=1\n",
    "for index in top_index:\n",
    "    print('#%d \\t %4.10f%% \\t %s' % (rank, score[index]*100, index2attribute[index]))\n",
    "    rank+=1"
   ]
  },
  {
   "cell_type": "code",
   "execution_count": 131,
   "metadata": {
    "collapsed": false
   },
   "outputs": [
    {
     "name": "stdout",
     "output_type": "stream",
     "text": [
      "#1 \t 0.6025316194% \t white\n",
      "#2 \t 0.4626981448% \t black\n",
      "#3 \t 0.3531251568% \t blue\n",
      "#4 \t 0.2986895852% \t visible\n",
      "#5 \t 0.2916357713% \t green\n",
      "#6 \t 0.2750195330% \t red\n",
      "#7 \t 0.2717502182% \t here\n",
      "#8 \t 0.2491382649% \t small\n",
      "#9 \t 0.2459737472% \t large\n",
      "#10 \t 0.2394111594% \t brown\n"
     ]
    }
   ],
   "source": [
    "score=get_attribtue_score(whole,potted_plant)\n",
    "top_k = 10\n",
    "top_index=np.argsort(score)[::-1][:top_k]\n",
    "rank=1\n",
    "for index in top_index:\n",
    "    print('#%d \\t %4.10f%% \\t %s' % (rank, score[index]*100, index2attribute[index]))\n",
    "    rank+=1"
   ]
  },
  {
   "cell_type": "code",
   "execution_count": 65,
   "metadata": {
    "collapsed": false
   },
   "outputs": [
    {
     "name": "stdout",
     "output_type": "stream",
     "text": [
      "#1 \t 0.6025316194% \t white\n",
      "#2 \t 0.4626981448% \t black\n",
      "#3 \t 0.3531251568% \t blue\n",
      "#4 \t 0.2986895852% \t visible\n",
      "#5 \t 0.2916357713% \t green\n",
      "#6 \t 0.2750195330% \t red\n",
      "#7 \t 0.2717502182% \t here\n",
      "#8 \t 0.2491382649% \t small\n",
      "#9 \t 0.2459737472% \t large\n",
      "#10 \t 0.2394111594% \t brown\n"
     ]
    }
   ],
   "source": [
    "score=get_attribtue_score(whole,man_right)\n",
    "top_k = 10\n",
    "top_index=np.argsort(score)[::-1][:top_k]\n",
    "rank=1\n",
    "for index in top_index:\n",
    "    print('#%d \\t %4.10f%% \\t %s' % (rank, score[index]*100, index2attribute[index]))\n",
    "    rank+=1"
   ]
  },
  {
   "cell_type": "code",
   "execution_count": 101,
   "metadata": {
    "collapsed": false
   },
   "outputs": [
    {
     "name": "stdout",
     "output_type": "stream",
     "text": [
      "#1 \t 0.6025316194% \t white\n",
      "#2 \t 0.4626981448% \t black\n",
      "#3 \t 0.3531251568% \t blue\n",
      "#4 \t 0.2986895852% \t visible\n",
      "#5 \t 0.2916357713% \t green\n",
      "#6 \t 0.2750195330% \t red\n",
      "#7 \t 0.2717502182% \t here\n",
      "#8 \t 0.2491382649% \t small\n",
      "#9 \t 0.2459737472% \t large\n",
      "#10 \t 0.2394111594% \t brown\n"
     ]
    }
   ],
   "source": [
    "score=get_attribtue_score(whole,sky)\n",
    "top_k = 10\n",
    "top_index=np.argsort(score)[::-1][:top_k]\n",
    "rank=1\n",
    "for index in top_index:\n",
    "    print('#%d \\t %4.10f%% \\t %s' % (rank, score[index]*100, index2attribute[index]))\n",
    "    rank+=1"
   ]
  },
  {
   "cell_type": "code",
   "execution_count": 102,
   "metadata": {
    "collapsed": false
   },
   "outputs": [
    {
     "name": "stdout",
     "output_type": "stream",
     "text": [
      "#1 \t 0.6025316194% \t white\n",
      "#2 \t 0.4626981448% \t black\n",
      "#3 \t 0.3531251568% \t blue\n",
      "#4 \t 0.2986895852% \t visible\n",
      "#5 \t 0.2916357713% \t green\n",
      "#6 \t 0.2750195330% \t red\n",
      "#7 \t 0.2717502182% \t here\n",
      "#8 \t 0.2491382649% \t small\n",
      "#9 \t 0.2459737472% \t large\n",
      "#10 \t 0.2394111594% \t brown\n"
     ]
    }
   ],
   "source": [
    "score=get_attribtue_score(whole,road)\n",
    "top_k = 10\n",
    "top_index=np.argsort(score)[::-1][:top_k]\n",
    "rank=1\n",
    "for index in top_index:\n",
    "    print('#%d \\t %4.10f%% \\t %s' % (rank, score[index]*100, index2attribute[index]))\n",
    "    rank+=1"
   ]
  },
  {
   "cell_type": "code",
   "execution_count": 103,
   "metadata": {
    "collapsed": false
   },
   "outputs": [
    {
     "name": "stdout",
     "output_type": "stream",
     "text": [
      "#1 \t 0.6025316194% \t white\n",
      "#2 \t 0.4626981448% \t black\n",
      "#3 \t 0.3531251568% \t blue\n",
      "#4 \t 0.2986895852% \t visible\n",
      "#5 \t 0.2916357713% \t green\n",
      "#6 \t 0.2750195330% \t red\n",
      "#7 \t 0.2717502182% \t here\n",
      "#8 \t 0.2491382649% \t small\n",
      "#9 \t 0.2459737472% \t large\n",
      "#10 \t 0.2394111594% \t brown\n"
     ]
    }
   ],
   "source": [
    "score=get_attribtue_score(whole,tree)\n",
    "top_k = 10\n",
    "top_index=np.argsort(score)[::-1][:top_k]\n",
    "rank=1\n",
    "for index in top_index:\n",
    "    print('#%d \\t %4.10f%% \\t %s' % (rank, score[index]*100, index2attribute[index]))\n",
    "    rank+=1"
   ]
  },
  {
   "cell_type": "code",
   "execution_count": 107,
   "metadata": {
    "collapsed": false
   },
   "outputs": [
    {
     "name": "stdout",
     "output_type": "stream",
     "text": [
      "#1 \t 0.6025316194% \t white\n",
      "#2 \t 0.4626981448% \t black\n",
      "#3 \t 0.3531251568% \t blue\n",
      "#4 \t 0.2986895852% \t visible\n",
      "#5 \t 0.2916357713% \t green\n",
      "#6 \t 0.2750195330% \t red\n",
      "#7 \t 0.2717502182% \t here\n",
      "#8 \t 0.2491382649% \t small\n",
      "#9 \t 0.2459737472% \t large\n",
      "#10 \t 0.2394111594% \t brown\n"
     ]
    }
   ],
   "source": [
    "score=get_attribtue_score(whole,right_gate)\n",
    "top_k = 10\n",
    "top_index=np.argsort(score)[::-1][:top_k]\n",
    "rank=1\n",
    "for index in top_index:\n",
    "    print('#%d \\t %4.10f%% \\t %s' % (rank, score[index]*100, index2attribute[index]))\n",
    "    rank+=1"
   ]
  },
  {
   "cell_type": "markdown",
   "metadata": {},
   "source": [
    "# relation"
   ]
  },
  {
   "cell_type": "code",
   "execution_count": 108,
   "metadata": {
    "collapsed": true
   },
   "outputs": [],
   "source": [
    "def get_relation_score(feature1,feature2,feature3):\n",
    "    vec=np.ones([3*image_feature_dim],dtype=np.float32)\n",
    "    vec[0:image_feature_dim]=feature1\n",
    "    vec[image_feature_dim:2*image_feature_dim]=feature2\n",
    "    vec[2*image_feature_dim:3*image_feature_dim]=feature3\n",
    "    x_batch=np.array([vec],dtype=np.float32)\n",
    "    dist=forward_rel(x_batch).data[0]\n",
    "    return dist"
   ]
  },
  {
   "cell_type": "code",
   "execution_count": 129,
   "metadata": {
    "collapsed": false
   },
   "outputs": [
    {
     "name": "stdout",
     "output_type": "stream",
     "text": [
      "#1 \t 22.3912894726% \t on\n",
      "#2 \t 11.6773158312% \t riding\n",
      "#3 \t 5.6106146425% \t is on a\n",
      "#4 \t 3.2452397048% \t sitting on\n",
      "#5 \t 1.9956924021% \t on a\n",
      "#6 \t 1.9871929660% \t is riding a\n",
      "#7 \t 1.7613338307% \t is on\n",
      "#8 \t 1.6828905791% \t is riding\n",
      "#9 \t 1.6633620486% \t pushing\n",
      "#10 \t 1.5282982029% \t on the\n"
     ]
    }
   ],
   "source": [
    "score=get_relation_score(whole,man_top,bicycle)\n",
    "top_k = 10\n",
    "top_index=np.argsort(score)[::-1][:top_k]\n",
    "rank=1\n",
    "for index in top_index:\n",
    "    print('#%d \\t %4.10f%% \\t %s' % (rank, score[index]*100, index2relation[index]))\n",
    "    rank+=1"
   ]
  },
  {
   "cell_type": "code",
   "execution_count": 130,
   "metadata": {
    "collapsed": false
   },
   "outputs": [
    {
     "name": "stdout",
     "output_type": "stream",
     "text": [
      "#1 \t 62.9625380039% \t on\n",
      "#2 \t 7.0634752512% \t on the\n",
      "#3 \t 5.4050892591% \t in\n",
      "#4 \t 3.5611666739% \t is on\n",
      "#5 \t 3.1290087849% \t walking on\n",
      "#6 \t 2.5529829785% \t is on the\n",
      "#7 \t 2.2439014167% \t crossing\n",
      "#8 \t 1.2864099815% \t near\n",
      "#9 \t 1.1378210038% \t on top of\n",
      "#10 \t 0.9088567458% \t standing on\n"
     ]
    }
   ],
   "source": [
    "score=get_relation_score(whole,man_right,road)\n",
    "top_k = 10\n",
    "top_index=np.argsort(score)[::-1][:top_k]\n",
    "rank=1\n",
    "for index in top_index:\n",
    "    print('#%d \\t %4.10f%% \\t %s' % (rank, score[index]*100, index2relation[index]))\n",
    "    rank+=1"
   ]
  },
  {
   "cell_type": "code",
   "execution_count": 117,
   "metadata": {
    "collapsed": false
   },
   "outputs": [
    {
     "name": "stdout",
     "output_type": "stream",
     "text": [
      "#1 \t 70.2488660812% \t on\n",
      "#2 \t 10.5984918773% \t on the\n",
      "#3 \t 3.9970472455% \t in\n",
      "#4 \t 2.5582181290% \t near\n",
      "#5 \t 2.2435607389% \t is on the\n",
      "#6 \t 1.5789568424% \t is on\n",
      "#7 \t 0.6154546048% \t by\n",
      "#8 \t 0.5153512117% \t sitting on\n",
      "#9 \t 0.4893499427% \t on top of\n",
      "#10 \t 0.4531901795% \t parked on\n"
     ]
    }
   ],
   "source": [
    "score=get_relation_score(whole,bicycle,road)\n",
    "top_k = 10\n",
    "top_index=np.argsort(score)[::-1][:top_k]\n",
    "rank=1\n",
    "for index in top_index:\n",
    "    print('#%d \\t %4.10f%% \\t %s' % (rank, score[index]*100, index2relation[index]))\n",
    "    rank+=1"
   ]
  },
  {
   "cell_type": "code",
   "execution_count": 118,
   "metadata": {
    "collapsed": false
   },
   "outputs": [
    {
     "name": "stdout",
     "output_type": "stream",
     "text": [
      "#1 \t 49.6615231037% \t on\n",
      "#2 \t 11.6530567408% \t in\n",
      "#3 \t 5.3632650524% \t on the\n",
      "#4 \t 3.6487247795% \t near\n",
      "#5 \t 2.4069139734% \t is on the\n",
      "#6 \t 2.2162707523% \t in the\n",
      "#7 \t 1.9974531606% \t is on\n",
      "#8 \t 1.0195360519% \t by\n",
      "#9 \t 0.9591570124% \t are on the\n",
      "#10 \t 0.8994709700% \t of\n"
     ]
    }
   ],
   "source": [
    "score=get_relation_score(whole,bicycle,sky)\n",
    "top_k = 10\n",
    "top_index=np.argsort(score)[::-1][:top_k]\n",
    "rank=1\n",
    "for index in top_index:\n",
    "    print('#%d \\t %4.10f%% \\t %s' % (rank, score[index]*100, index2relation[index]))\n",
    "    rank+=1"
   ]
  },
  {
   "cell_type": "code",
   "execution_count": 104,
   "metadata": {
    "collapsed": false
   },
   "outputs": [
    {
     "name": "stdout",
     "output_type": "stream",
     "text": [
      "#1 \t 12.1479392052% \t has\n",
      "#2 \t 10.7314974070% \t wearing\n",
      "#3 \t 9.4092175364% \t carrying\n",
      "#4 \t 8.8208362460% \t with\n",
      "#5 \t 7.2387009859% \t holding\n",
      "#6 \t 2.9198935255% \t has a\n",
      "#7 \t 2.4595797062% \t on\n",
      "#8 \t 2.1050551906% \t is holding\n",
      "#9 \t 2.0192829892% \t holds\n",
      "#10 \t 1.9276527688% \t in\n"
     ]
    }
   ],
   "source": [
    "score=get_relation_score(whole,man_right,potted_plant)\n",
    "top_k = 10\n",
    "top_index=np.argsort(score)[::-1][:top_k]\n",
    "rank=1\n",
    "for index in top_index:\n",
    "    print('#%d \\t %4.10f%% \\t %s' % (rank, score[index]*100, index2relation[index]))\n",
    "    rank+=1"
   ]
  },
  {
   "cell_type": "code",
   "execution_count": 124,
   "metadata": {
    "collapsed": false
   },
   "outputs": [
    {
     "name": "stdout",
     "output_type": "stream",
     "text": [
      "#1 \t 24.1783142090% \t on\n",
      "#2 \t 14.4534766674% \t in\n",
      "#3 \t 6.4995221794% \t of\n",
      "#4 \t 4.9632608891% \t near\n",
      "#5 \t 4.5189391822% \t on the\n",
      "#6 \t 3.5161804408% \t behind\n",
      "#7 \t 2.6009608060% \t is on\n",
      "#8 \t 2.4088174105% \t in front of\n",
      "#9 \t 2.1800706163% \t by\n",
      "#10 \t 1.7690252513% \t next to\n"
     ]
    }
   ],
   "source": [
    "score=get_relation_score(whole,potted_plant,right_gate)\n",
    "top_k = 10\n",
    "top_index=np.argsort(score)[::-1][:top_k]\n",
    "rank=1\n",
    "for index in top_index:\n",
    "    print('#%d \\t %4.10f%% \\t %s' % (rank, score[index]*100, index2relation[index]))\n",
    "    rank+=1"
   ]
  },
  {
   "cell_type": "code",
   "execution_count": null,
   "metadata": {
    "collapsed": true
   },
   "outputs": [],
   "source": []
  }
 ],
 "metadata": {
  "kernelspec": {
   "display_name": "Python 2",
   "language": "python",
   "name": "python2"
  },
  "language_info": {
   "codemirror_mode": {
    "name": "ipython",
    "version": 2
   },
   "file_extension": ".py",
   "mimetype": "text/x-python",
   "name": "python",
   "nbconvert_exporter": "python",
   "pygments_lexer": "ipython2",
   "version": "2.7.11"
  }
 },
 "nbformat": 4,
 "nbformat_minor": 0
}
