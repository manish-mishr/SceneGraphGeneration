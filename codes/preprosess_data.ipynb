{
 "cells": [
  {
   "cell_type": "code",
   "execution_count": 1,
   "metadata": {
    "collapsed": false
   },
   "outputs": [],
   "source": [
    "import chainer\n",
    "from chainer.functions import caffe\n",
    "from chainer import cuda\n",
    "import chainer.functions as F\n",
    "from chainer.functions import caffe\n",
    "from chainer import cuda, Function, FunctionSet, gradient_check, Variable, optimizers"
   ]
  },
  {
   "cell_type": "code",
   "execution_count": 2,
   "metadata": {
    "collapsed": true
   },
   "outputs": [],
   "source": [
    "import json\n",
    "import unicodecsv as csv\n",
    "import pickle\n",
    "import numpy as np\n",
    "import cv2"
   ]
  },
  {
   "cell_type": "code",
   "execution_count": 3,
   "metadata": {
    "collapsed": true
   },
   "outputs": [],
   "source": [
    "from gensim import corpora"
   ]
  },
  {
   "cell_type": "code",
   "execution_count": 4,
   "metadata": {
    "collapsed": true
   },
   "outputs": [],
   "source": [
    "import matplotlib.pyplot as plt\n",
    "%matplotlib inline"
   ]
  },
  {
   "cell_type": "code",
   "execution_count": 5,
   "metadata": {
    "collapsed": false
   },
   "outputs": [],
   "source": [
    "with open('../data/relationships-half.json', 'r') as f:\n",
    "    all_relationships = json.load(f)\n",
    "with open('../data/attributes-half.json', 'r') as f:\n",
    "    all_attributes = json.load(f)"
   ]
  },
  {
   "cell_type": "code",
   "execution_count": 6,
   "metadata": {
    "collapsed": true
   },
   "outputs": [],
   "source": [
    "with open('../work/attribute_train_image_ids.csv', 'r') as f:\n",
    "    reader = csv.reader(f)\n",
    "    attribute_train_image_ids=reader.next()\n",
    "    attribute_train_image_ids = map(int,attribute_train_image_ids)\n",
    "    \n",
    "with open('../work/attribute_val_image_ids.csv', 'r') as f:\n",
    "    reader = csv.reader(f)\n",
    "    attribute_val_image_ids=reader.next()\n",
    "    attribute_val_image_ids = map(int,attribute_val_image_ids)\n",
    "    \n",
    "with open('../work/relationship_train_image_ids.csv', 'r') as f:\n",
    "    reader = csv.reader(f)\n",
    "    relationship_train_image_ids=reader.next()\n",
    "    relationship_train_image_ids = map(int,relationship_train_image_ids)\n",
    "    \n",
    "with open('../work/relationship_val_image_ids.csv', 'r') as f:\n",
    "    reader = csv.reader(f)\n",
    "    relationship_val_image_ids=reader.next()\n",
    "    relationship_val_image_ids = map(int,relationship_val_image_ids)"
   ]
  },
  {
   "cell_type": "code",
   "execution_count": 7,
   "metadata": {
    "collapsed": true
   },
   "outputs": [],
   "source": [
    "def get_image_relationships(image_id,all_relationships):\n",
    "    for i in xrange(len(all_relationships)):\n",
    "        image_id_=all_relationships[i][u'id']\n",
    "        if image_id==image_id_:\n",
    "            relationships=all_relationships[i][u'relationships']\n",
    "    return relationships\n",
    "\n",
    "def get_image_attributes(image_id,all_attributes):\n",
    "    for i in xrange(len(all_attributes)):\n",
    "        image_id_=all_objects[i][u'id']\n",
    "        if image_id==image_id_:\n",
    "            attributes=all_attributes[i][u'attributes']\n",
    "    return attributes"
   ]
  },
  {
   "cell_type": "code",
   "execution_count": null,
   "metadata": {
    "collapsed": false
   },
   "outputs": [],
   "source": [
    "#Caffeモデルをロード\n",
    "print \"loading caffe models\"\n",
    "#Load Caffe Model\n",
    "cnn_model_place=\"../chainer_caption_generation/data/bvlc_googlenet_caffe_chainer.pkl\"\n",
    "with open(cnn_model_place, 'r') as f:\n",
    "    func = pickle.load(f)\n",
    "\n",
    "def feature_exractor(self,x_chainer_variable): #to extract image feature by CNN.\n",
    "    y, = self.func(inputs={'data': x_chainer_variable}, outputs=['pool5/7x7_s1'],\n",
    "                  disable=['loss1/ave_pool', 'loss2/ave_pool','loss3/classifier'],\n",
    "                  train=False)\n",
    "    return y"
   ]
  },
  {
   "cell_type": "code",
   "execution_count": null,
   "metadata": {
    "collapsed": false
   },
   "outputs": [],
   "source": [
    "train_predicates=[]\n",
    "for image_id in relationship_train_image_ids:\n",
    "    image_relationships=get_image_relationships(image_id,all_relationships)\n",
    "    for triple in image_relationships:\n",
    "        triple_id=triple[u'id']\n",
    "        triple_predicate=triple[u'predicate']\n",
    "        train_predicates.append(triple_predicate)"
   ]
  },
  {
   "cell_type": "code",
   "execution_count": null,
   "metadata": {
    "collapsed": false
   },
   "outputs": [],
   "source": [
    "image_id=relationship_train_image_ids[0]\n",
    "image_relationships=get_image_relationships(image_id,all_relationships)\n",
    "for triple in image_relationships:\n",
    "    triple_id=triple[u'id']\n",
    "    triple_predicate=triple[u'predicate']\n",
    "\n",
    "    triple_subject=triple[u'subject']\n",
    "    triple_subject_name=triple_subject['name']\n",
    "    triple_subject_x=triple_subject['x']\n",
    "    triple_subject_y=triple_subject['y']\n",
    "    triple_subject_w=triple_subject['w']\n",
    "    triple_subject_h=triple_subject['h']\n",
    "\n",
    "    triple_object=triple[u'object']\n",
    "    triple_object_name=triple_object['name']\n",
    "    triple_object_x=triple_object['x']\n",
    "    triple_object_y=triple_object['y']\n",
    "    triple_object_w=triple_object['w']\n",
    "    triple_object_h=triple_object['h']"
   ]
  },
  {
   "cell_type": "code",
   "execution_count": null,
   "metadata": {
    "collapsed": false
   },
   "outputs": [],
   "source": [
    "triple"
   ]
  },
  {
   "cell_type": "code",
   "execution_count": null,
   "metadata": {
    "collapsed": true
   },
   "outputs": [],
   "source": [
    "img_file=\"../data/images/%d.jpg\"%image_id\n",
    "img=cv2.imread(img_file)"
   ]
  },
  {
   "cell_type": "code",
   "execution_count": null,
   "metadata": {
    "collapsed": false
   },
   "outputs": [],
   "source": [
    "img.shape"
   ]
  },
  {
   "cell_type": "code",
   "execution_count": null,
   "metadata": {
    "collapsed": false
   },
   "outputs": [],
   "source": [
    "img_sbj=img[triple_subject_y:triple_subject_y+triple_subject_h, triple_subject_x:triple_subject_x+triple_subject_w]\n",
    "img_obj=img[triple_object_y:triple_object_y+triple_object_h, triple_object_x:triple_object_x+triple_object_w]"
   ]
  },
  {
   "cell_type": "code",
   "execution_count": null,
   "metadata": {
    "collapsed": false
   },
   "outputs": [],
   "source": [
    "plt.axis(\"off\")\n",
    "plt.imshow(cv2.cvtColor(img_sbj, cv2.COLOR_BGR2RGB))\n",
    "plt.show()"
   ]
  },
  {
   "cell_type": "code",
   "execution_count": null,
   "metadata": {
    "collapsed": true
   },
   "outputs": [],
   "source": [
    "dictionary = corpora.Dictionary(texts)\n",
    "dictionary.filter_extremes(no_below=5, no_above=1.0)\n",
    "dictionary.compactify() # remove gaps in id sequence after words that were removed\n",
    "index2token = dict((v, k) for k, v in dictionary.token2id.iteritems())\n",
    "ukn_id=len(dictionary.token2id)\n",
    "index2token[ukn_id]='<UKN>'\n"
   ]
  }
 ],
 "metadata": {
  "kernelspec": {
   "display_name": "Python 2",
   "language": "python",
   "name": "python2"
  },
  "language_info": {
   "codemirror_mode": {
    "name": "ipython",
    "version": 2
   },
   "file_extension": ".py",
   "mimetype": "text/x-python",
   "name": "python",
   "nbconvert_exporter": "python",
   "pygments_lexer": "ipython2",
   "version": "2.7.11"
  }
 },
 "nbformat": 4,
 "nbformat_minor": 0
}
