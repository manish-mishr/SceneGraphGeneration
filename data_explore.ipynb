{
 "cells": [
  {
   "cell_type": "markdown",
   "metadata": {},
   "source": [
    "This is how to explore data.  \n",
    "The code is partically taken from the official API  \n",
    "https://github.com/ranjaykrishna/visual_genome_python_driver/  \n",
    "https://visualgenome.org/api/v0/api_beginners_tutorial.html"
   ]
  },
  {
   "cell_type": "code",
   "execution_count": null,
   "metadata": {
    "collapsed": false
   },
   "outputs": [],
   "source": [
    "import json\n",
    "\n",
    "import matplotlib.pyplot as plt\n",
    "from matplotlib.patches import Rectangle\n",
    "#from src import api as vg\n",
    "from PIL import Image as PIL_Image\n",
    "import requests\n",
    "from StringIO import StringIO\n",
    "\n",
    "import matplotlib\n",
    "%matplotlib inline"
   ]
  },
  {
   "cell_type": "markdown",
   "metadata": {},
   "source": [
    "##images_data"
   ]
  },
  {
   "cell_type": "code",
   "execution_count": null,
   "metadata": {
    "collapsed": true
   },
   "outputs": [],
   "source": [
    "#we do not have to use image_data.json in this project.\n",
    "#this is jsut a meta data for images (e.g. images source)\n",
    "\n",
    "with open('./data/image_data.json', 'r') as f:\n",
    "    image_data = json.load(f)\n",
    "    \n",
    "{u'coco_id': None,\n",
    "  u'flickr_id': None,\n",
    "  u'height': 600,\n",
    "  u'id': 1,\n",
    "  u'url': u'https://cs.stanford.edu/people/rak248/VG_100K_2/1.jpg',\n",
    "  u'width': 800}"
   ]
  },
  {
   "cell_type": "markdown",
   "metadata": {},
   "source": [
    "##objects"
   ]
  },
  {
   "cell_type": "code",
   "execution_count": null,
   "metadata": {
    "collapsed": true
   },
   "outputs": [],
   "source": [
    "with open('./data/objects.json', 'r') as f:\n",
    "    all_objects = json.load(f)"
   ]
  },
  {
   "cell_type": "code",
   "execution_count": null,
   "metadata": {
    "collapsed": false
   },
   "outputs": [],
   "source": [
    "i=0\n",
    "image_id=all_objects[i][u'id']\n",
    "image_objects=all_objects[i][u'objects']\n",
    "j=1\n",
    "image_object=image_objects[j]\n",
    "object_x=image_object[u'x']\n",
    "object_y=image_object[u'y']\n",
    "object_w=image_object[u'w']\n",
    "object_h=image_object[u'h']"
   ]
  },
  {
   "cell_type": "code",
   "execution_count": null,
   "metadata": {
    "collapsed": false
   },
   "outputs": [],
   "source": [
    "image_objects[0].keys()"
   ]
  },
  {
   "cell_type": "code",
   "execution_count": null,
   "metadata": {
    "collapsed": false
   },
   "outputs": [],
   "source": [
    "len(objects)"
   ]
  },
  {
   "cell_type": "code",
   "execution_count": null,
   "metadata": {
    "collapsed": false
   },
   "outputs": [],
   "source": [
    "def get_image_objects(image_id,all_objects):\n",
    "    for i in xrange(len(all_objects)):\n",
    "        image_id_=all_objects[i][u'id']\n",
    "        if image_id==image_id_:\n",
    "            objects=all_objects[i][u'objects']\n",
    "    return objects\n",
    "\n",
    "def plot_image_objects(image_id,all_objects):\n",
    "    image_objects=get_image_objects(image_id,all_objects)\n",
    "    \n",
    "    fig = plt.gcf()\n",
    "    fig.set_size_inches(18.5, 10.5)\n",
    "    img = PIL_Image.open(\"./data/images/%d.jpg\"%image_id)\n",
    "    plt.imshow(img)\n",
    "    for image_object in image_objects:\n",
    "        ax = plt.gca()\n",
    "        object_x=image_object[u'x']\n",
    "        object_y=image_object[u'y']\n",
    "        object_w=image_object[u'w']\n",
    "        object_h=image_object[u'h']\n",
    "        object_names=str(image_object[u'names'])\n",
    "        x=object_x;y=object_y;width=object_w;height=object_h;phrase=object_names\n",
    "        ax.add_patch(Rectangle((x, y),width,height,fill=False,edgecolor='red',linewidth=3))\n",
    "        ax.text(x, y, phrase, style='italic', bbox={'facecolor':'white', 'alpha':0.7, 'pad':10})\n",
    "    \n",
    "    fig = plt.gcf()\n",
    "    plt.tick_params(labelbottom='off', labelleft='off')\n",
    "    plt.show()"
   ]
  },
  {
   "cell_type": "code",
   "execution_count": null,
   "metadata": {
    "collapsed": false
   },
   "outputs": [],
   "source": [
    "#check how many have relashionships\n",
    "count=0\n",
    "for i in xrange(len(all_objects)):\n",
    "    image_id_=all_objects[i][u'id']\n",
    "    objects=all_objects[i][u'objects']\n",
    "    if len(objects) > 0:\n",
    "        count+=1\n",
    "print count"
   ]
  },
  {
   "cell_type": "markdown",
   "metadata": {},
   "source": [
    "##relationships"
   ]
  },
  {
   "cell_type": "code",
   "execution_count": null,
   "metadata": {
    "collapsed": true
   },
   "outputs": [],
   "source": [
    "with open('./data/relationships-half.json', 'r') as f:\n",
    "    all_relationships = json.load(f)"
   ]
  },
  {
   "cell_type": "code",
   "execution_count": null,
   "metadata": {
    "collapsed": false
   },
   "outputs": [],
   "source": [
    "#check how many have relashionships\n",
    "count=0\n",
    "for i in xrange(len(all_relationships)):\n",
    "    image_id_=all_relationships[i][u'id']\n",
    "    relationships=all_relationships[i][u'relationships']\n",
    "    if len(relationships) > 0:\n",
    "        count+=1\n",
    "print count"
   ]
  },
  {
   "cell_type": "code",
   "execution_count": null,
   "metadata": {
    "collapsed": false
   },
   "outputs": [],
   "source": [
    "def get_image_relationships(image_id,all_relationships):\n",
    "    for i in xrange(len(all_relationships)):\n",
    "        image_id_=all_relationships[i][u'id']\n",
    "        if image_id==image_id_:\n",
    "            relationships=all_relationships[i][u'relationships']\n",
    "    return relationships\n",
    "\n",
    "def plot_a_triple(image_id,triple):\n",
    "    fig = plt.gcf()\n",
    "    fig.set_size_inches(18.5, 10.5)\n",
    "    img = PIL_Image.open(\"./data/images/%d.jpg\"%image_id)\n",
    "    plt.imshow(img)\n",
    "\n",
    "    ax = plt.gca()\n",
    "    id=triple[u'id']\n",
    "    predicate=triple[u'predicate']\n",
    "\n",
    "    subject=triple[u'subject']\n",
    "    subject_name=subject['name']\n",
    "    subject_x=subject['x']\n",
    "    subject_y=subject['y']\n",
    "    subject_w=subject['w']\n",
    "    subject_h=subject['h']\n",
    "    x=subject_x;y=subject_y;width=subject_w;height=subject_h;phrase=subject_name\n",
    "    ax.add_patch(Rectangle((x, y),width,height,fill=False,edgecolor='red',linewidth=3))\n",
    "    ax.text(x, y, phrase+\" ->\"+predicate, style='italic', bbox={'facecolor':'white', 'alpha':0.7, 'pad':10})\n",
    "\n",
    "    object=triple[u'object']\n",
    "    object_name=object['name']\n",
    "    object_x=object['x']\n",
    "    object_y=object['y']\n",
    "    object_w=object['w']\n",
    "    object_h=object['h']    \n",
    "    x=object_x;y=object_y;width=object_w;height=object_h;phrase=object_name\n",
    "    ax.add_patch(Rectangle((x, y),width,height,fill=False,edgecolor='blue',linewidth=3))\n",
    "    ax.text(x, y, phrase, style='italic', bbox={'facecolor':'white', 'alpha':0.7, 'pad':10})\n",
    "\n",
    "    fig = plt.gcf()\n",
    "    plt.tick_params(labelbottom='off', labelleft='off')\n",
    "    plt.show()\n",
    "\n",
    "def plot_image_relationships(image_id,all_relationships):\n",
    "    image_relationships=get_image_relationships(image_id,all_relationships)\n",
    "    \n",
    "    fig = plt.gcf()\n",
    "    fig.set_size_inches(18.5, 10.5)\n",
    "    img = PIL_Image.open(\"./data/images/%d.jpg\"%image_id)\n",
    "    plt.imshow(img)\n",
    "    for triple in image_relationships:\n",
    "        ax = plt.gca()\n",
    "        triple_id=triple[u'id']\n",
    "        triple_predicate=triple[u'predicate']\n",
    "\n",
    "        triple_subject=triple[u'subject']\n",
    "        triple_subject_name=triple_subject['name']\n",
    "        triple_subject_x=triple_subject['x']\n",
    "        triple_subject_y=triple_subject['y']\n",
    "        triple_subject_w=triple_subject['w']\n",
    "        triple_subject_h=triple_subject['h']\n",
    "        x=triple_subject_x;y=triple_subject_y;width=triple_subject_w;height=triple_subject_h;phrase=triple_subject_name\n",
    "        ax.add_patch(Rectangle((x, y),width,height,fill=False,edgecolor='red',linewidth=3))\n",
    "        ax.text(x, y, phrase+\" ->\"+triple_predicate, style='italic', bbox={'facecolor':'white', 'alpha':0.7, 'pad':10})\n",
    "\n",
    "        triple_object=triple[u'object']\n",
    "        triple_object_name=triple_object['name']\n",
    "        triple_object_x=triple_object['x']\n",
    "        triple_object_y=triple_object['y']\n",
    "        triple_object_w=triple_object['w']\n",
    "        triple_object_h=triple_object['h']        \n",
    "        x=triple_object_x;y=triple_object_y;width=triple_object_w;height=triple_object_h;phrase=triple_object_name\n",
    "        ax.add_patch(Rectangle((x, y),width,height,fill=False,edgecolor='blue',linewidth=3))\n",
    "        ax.text(x, y, phrase, style='italic', bbox={'facecolor':'white', 'alpha':0.7, 'pad':10})\n",
    "        \n",
    "       \n",
    "    plt.tick_params(labelbottom='off', labelleft='off')\n",
    "    plt.show()   \n",
    "\n",
    "def plot_image_relationships_each(image_id,all_relationships):\n",
    "    image_relationships=get_image_relationships(image_id,all_relationships)\n",
    "\n",
    "    for triple in image_relationships:\n",
    "        fig = plt.gcf()\n",
    "        fig.set_size_inches(18.5, 10.5)\n",
    "        img = PIL_Image.open(\"./data/images/%d.jpg\"%image_id)\n",
    "        plt.imshow(img)\n",
    "        ax = plt.gca()\n",
    "        triple_id=triple[u'id']\n",
    "        triple_predicate=triple[u'predicate']\n",
    "\n",
    "        triple_subject=triple[u'subject']\n",
    "        triple_subject_name=triple_subject['name']\n",
    "        triple_subject_x=triple_subject['x']\n",
    "        triple_subject_y=triple_subject['y']\n",
    "        triple_subject_w=triple_subject['w']\n",
    "        triple_subject_h=triple_subject['h']\n",
    "        x=triple_subject_x;y=triple_subject_y;width=triple_subject_w;height=triple_subject_h;phrase=triple_subject_name\n",
    "        ax.add_patch(Rectangle((x, y),width,height,fill=False,edgecolor='red',linewidth=3))\n",
    "        ax.text(x, y, phrase+\" ->\"+triple_predicate, style='italic', bbox={'facecolor':'white', 'alpha':0.7, 'pad':10})\n",
    "\n",
    "        triple_object=triple[u'object']\n",
    "        triple_object_name=triple_object['name']\n",
    "        triple_object_x=triple_object['x']\n",
    "        triple_object_y=triple_object['y']\n",
    "        triple_object_w=triple_object['w']\n",
    "        triple_object_h=triple_object['h']        \n",
    "        x=triple_object_x;y=triple_object_y;width=triple_object_w;height=triple_object_h;phrase=triple_object_name\n",
    "        ax.add_patch(Rectangle((x, y),width,height,fill=False,edgecolor='blue',linewidth=3))\n",
    "        ax.text(x, y, phrase, style='italic', bbox={'facecolor':'white', 'alpha':0.7, 'pad':10})\n",
    "        plt.tick_params(labelbottom='off', labelleft='off')\n",
    "        plt.show()   "
   ]
  },
  {
   "cell_type": "code",
   "execution_count": null,
   "metadata": {
    "collapsed": false
   },
   "outputs": [],
   "source": [
    "plot_image_relationships(1,all_relationships)"
   ]
  },
  {
   "cell_type": "code",
   "execution_count": null,
   "metadata": {
    "collapsed": false,
    "scrolled": false
   },
   "outputs": [],
   "source": [
    "plot_image_relationships_each(1,all_relationships)"
   ]
  },
  {
   "cell_type": "code",
   "execution_count": null,
   "metadata": {
    "collapsed": false
   },
   "outputs": [],
   "source": [
    "image_relationships=get_image_relationships(1,all_relationships)\n",
    "plot_a_triple(1,image_relationships[1])"
   ]
  },
  {
   "cell_type": "code",
   "execution_count": null,
   "metadata": {
    "collapsed": false
   },
   "outputs": [],
   "source": [
    "image_relationships=get_image_relationships(1,all_relationships)\n",
    "plot_a_triple(1,image_relationships[4])"
   ]
  },
  {
   "cell_type": "markdown",
   "metadata": {},
   "source": [
    "##attributes"
   ]
  },
  {
   "cell_type": "code",
   "execution_count": null,
   "metadata": {
    "collapsed": true
   },
   "outputs": [],
   "source": [
    "with open('./data/attributes-half.json', 'r') as f:\n",
    "    all_attributes = json.load(f)"
   ]
  },
  {
   "cell_type": "code",
   "execution_count": null,
   "metadata": {
    "collapsed": false
   },
   "outputs": [],
   "source": [
    "#check how many images have attributes\n",
    "count=0\n",
    "for i in xrange(len(all_attributes)):\n",
    "    image_id_=all_attributes[i][u'id']\n",
    "    attributes=all_attributes[i][u'attributes']\n",
    "    if len(attributes) > 0:\n",
    "        count+=1\n",
    "print count"
   ]
  },
  {
   "cell_type": "code",
   "execution_count": null,
   "metadata": {
    "collapsed": false,
    "scrolled": false
   },
   "outputs": [],
   "source": [
    "# print len(all_objects[0][u'objects'])\n",
    "# print len(all_attributes[0][u'attributes'])\n",
    "#all_attributes[0][u'attributes']"
   ]
  },
  {
   "cell_type": "code",
   "execution_count": null,
   "metadata": {
    "collapsed": false
   },
   "outputs": [],
   "source": [
    "# count=0\n",
    "# for i in xrange(len(all_attributes)):\n",
    "#     image_id=all_attributes[i][u'id']\n",
    "#     attributes=all_attributes[i][u'attributes']\n",
    "#     flag=0\n",
    "#     for line in attributes:\n",
    "#         if len(line[u'object_names'])>2:\n",
    "#             flag+=1\n",
    "#     if flag>0:\n",
    "#         print image_id,flag"
   ]
  },
  {
   "cell_type": "code",
   "execution_count": null,
   "metadata": {
    "collapsed": false
   },
   "outputs": [],
   "source": [
    "def get_image_attributes(image_id,all_attributes):\n",
    "    for i in xrange(len(all_attributes)):\n",
    "        image_id_=all_objects[i][u'id']\n",
    "        if image_id==image_id_:\n",
    "            attributes=all_attributes[i][u'attributes']\n",
    "    return attributes\n",
    "\n",
    "def plot_image_attributes(image_id,all_attributes):\n",
    "    image_objects=get_image_attributes(image_id,all_attributes)\n",
    "    \n",
    "    fig = plt.gcf()\n",
    "    fig.set_size_inches(18.5, 10.5)\n",
    "    img = PIL_Image.open(\"./data/images/%d.jpg\"%image_id)\n",
    "    plt.imshow(img)\n",
    "    for image_object in image_objects:\n",
    "        ax = plt.gca()\n",
    "        object_x=image_object[u'x']\n",
    "        object_y=image_object[u'y']\n",
    "        object_w=image_object[u'w']\n",
    "        object_h=image_object[u'h']\n",
    "        object_names=str(image_object[u'object_names'])\n",
    "        object_attributes=str(image_object[u'attributes'])\n",
    "        x=object_x;y=object_y;width=object_w;height=object_h;phrase=object_names+\"is\"+object_attributes\n",
    "        ax.add_patch(Rectangle((x, y),width,height,fill=False,edgecolor='red',linewidth=3))\n",
    "        ax.text(x, y, phrase, style='italic', bbox={'facecolor':'white', 'alpha':0.7, 'pad':10})\n",
    "    \n",
    "    fig = plt.gcf()\n",
    "    plt.tick_params(labelbottom='off', labelleft='off')\n",
    "    plt.show()\n",
    "\n",
    "def plot_image_attributes_each(image_id,all_attributes,allow_no_attribute=False):\n",
    "    image_objects=get_image_attributes(image_id,all_attributes)\n",
    "    \n",
    "    for image_object in image_objects:\n",
    "        if len(image_object[u'attributes'])==0 and allow_no_attribute==False:\n",
    "            continue\n",
    "            \n",
    "        fig = plt.gcf()\n",
    "        fig.set_size_inches(18.5, 10.5)\n",
    "        img = PIL_Image.open(\"./data/images/%d.jpg\"%image_id)\n",
    "        plt.imshow(img)\n",
    "        ax = plt.gca()\n",
    "        object_x=image_object[u'x']\n",
    "        object_y=image_object[u'y']\n",
    "        object_w=image_object[u'w']\n",
    "        object_h=image_object[u'h']\n",
    "        object_names=str(image_object[u'object_names'])\n",
    "        object_attributes=str(image_object[u'attributes'])\n",
    "        \n",
    "        x=object_x;y=object_y;width=object_w;height=object_h;phrase=object_names+\"is\"+object_attributes\n",
    "        ax.add_patch(Rectangle((x, y),width,height,fill=False,edgecolor='red',linewidth=3))\n",
    "        ax.text(x, y, phrase, style='italic', bbox={'facecolor':'white', 'alpha':0.7, 'pad':10})\n",
    "\n",
    "        fig = plt.gcf()\n",
    "        plt.tick_params(labelbottom='off', labelleft='off')\n",
    "        plt.show()"
   ]
  },
  {
   "cell_type": "code",
   "execution_count": null,
   "metadata": {
    "collapsed": false,
    "scrolled": false
   },
   "outputs": [],
   "source": [
    "#get_image_attributes(10,all_attributes)\n",
    "plot_image_attributes_each(10,all_attributes)"
   ]
  },
  {
   "cell_type": "code",
   "execution_count": null,
   "metadata": {
    "collapsed": true
   },
   "outputs": [],
   "source": []
  }
 ],
 "metadata": {
  "kernelspec": {
   "display_name": "Python 2",
   "language": "python",
   "name": "python2"
  },
  "language_info": {
   "codemirror_mode": {
    "name": "ipython",
    "version": 2
   },
   "file_extension": ".py",
   "mimetype": "text/x-python",
   "name": "python",
   "nbconvert_exporter": "python",
   "pygments_lexer": "ipython2",
   "version": "2.7.10"
  }
 },
 "nbformat": 4,
 "nbformat_minor": 0
}
